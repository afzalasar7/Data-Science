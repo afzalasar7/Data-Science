{
  "nbformat": 4,
  "nbformat_minor": 0,
  "metadata": {
    "colab": {
      "provenance": [],
      "authorship_tag": "ABX9TyOt0mvN5u1CSHjFtUQ6GySI"
    },
    "kernelspec": {
      "name": "python3",
      "display_name": "Python 3"
    },
    "language_info": {
      "name": "python"
    }
  },
  "cells": [
    {
      "cell_type": "markdown",
      "source": [
        "# Q1: Calculate the Pearson correlation coefficient between study time and exam scores.\n",
        "\n",
        "Pearson correlation coefficient measures the linear relationship between two variables. Let's calculate it using Python's library.\n",
        "\n"
      ],
      "metadata": {
        "id": "-QKRilrvBnsK"
      }
    },
    {
      "cell_type": "code",
      "source": [
        "import numpy as np\n",
        "from scipy.stats import pearsonr\n",
        "\n",
        "# Example data\n",
        "study_time = [5, 10, 15, 20, 25]\n",
        "exam_scores = [60, 85, 90, 75, 95]\n",
        "\n",
        "# Calculate Pearson correlation coefficient and p-value\n",
        "corr_coefficient, p_value = pearsonr(study_time, exam_scores)\n",
        "\n",
        "print(\"Pearson Correlation Coefficient:\", corr_coefficient)\n",
        "print(\"P-value:\", p_value)"
      ],
      "metadata": {
        "colab": {
          "base_uri": "https://localhost:8080/"
        },
        "id": "9CN3UucZB7N6",
        "outputId": "8818227f-fd67-4a24-858b-1fbcde78a198"
      },
      "execution_count": 1,
      "outputs": [
        {
          "output_type": "stream",
          "name": "stdout",
          "text": [
            "Pearson Correlation Coefficient: 0.6837634587578276\n",
            "P-value: 0.20304593596946224\n"
          ]
        }
      ]
    },
    {
      "cell_type": "markdown",
      "source": [
        "\n",
        "\n",
        "Interpretation: The Pearson correlation coefficient ranges from -1 to 1. A positive coefficient indicates a positive linear relationship (higher study time corresponds to higher exam scores), while a negative coefficient indicates a negative linear relationship (higher study time corresponds to lower exam scores). The p-value helps determine if the correlation is statistically significant.\n",
        "\n",
        "# Q2: Calculate the Spearman's rank correlation between sleep and job satisfaction."
      ],
      "metadata": {
        "id": "_AEtn7rvCBJX"
      }
    },
    {
      "cell_type": "code",
      "source": [
        "import numpy as np\n",
        "from scipy.stats import spearmanr\n",
        "\n",
        "# Example data\n",
        "sleep_hours = [7, 6, 8, 5, 7]\n",
        "job_satisfaction = [8, 7, 9, 6, 8]\n",
        "\n",
        "# Calculate Spearman's rank correlation coefficient and p-value\n",
        "corr_coefficient, p_value = spearmanr(sleep_hours, job_satisfaction)\n",
        "\n",
        "print(\"Spearman's Rank Correlation Coefficient:\", corr_coefficient)\n",
        "print(\"P-value:\", p_value)"
      ],
      "metadata": {
        "colab": {
          "base_uri": "https://localhost:8080/"
        },
        "id": "0eWcdh1wCTbf",
        "outputId": "50ad6620-a3a0-462b-f9cd-efb74850ae36"
      },
      "execution_count": 2,
      "outputs": [
        {
          "output_type": "stream",
          "name": "stdout",
          "text": [
            "Spearman's Rank Correlation Coefficient: 1.0\n",
            "P-value: 0.0\n"
          ]
        }
      ]
    },
    {
      "cell_type": "markdown",
      "source": [
        "\n",
        "Interpretation: The Spearman's rank correlation coefficient ranges from -1 to 1. It measures the strength and direction of the monotonic relationship between two variables. A positive coefficient indicates that higher sleep hours tend to correspond to higher job satisfaction ratings.\n",
        "\n",
        "# Q3: Calculate the Pearson correlation coefficient and the Spearman's rank correlation between exercise hours and BMI."
      ],
      "metadata": {
        "id": "6o8bNw51CYwy"
      }
    },
    {
      "cell_type": "code",
      "source": [
        "import numpy as np\n",
        "from scipy.stats import pearsonr, spearmanr\n",
        "\n",
        "# Example data\n",
        "exercise_hours = [3, 4, 5, 2, 6]\n",
        "bmi = [25.0, 27.5, 24.8, 29.2, 22.6]\n",
        "\n",
        "# Calculate Pearson correlation coefficient and p-value\n",
        "pearson_corr, pearson_p_value = pearsonr(exercise_hours, bmi)\n",
        "\n",
        "# Calculate Spearman's rank correlation coefficient and p-value\n",
        "spearman_corr, spearman_p_value = spearmanr(exercise_hours, bmi)\n",
        "\n",
        "print(\"Pearson Correlation Coefficient:\", pearson_corr)\n",
        "print(\"Pearson P-value:\", pearson_p_value)\n",
        "print(\"Spearman's Rank Correlation Coefficient:\", spearman_corr)\n",
        "print(\"Spearman's P-value:\", spearman_p_value)"
      ],
      "metadata": {
        "colab": {
          "base_uri": "https://localhost:8080/"
        },
        "id": "fT8V3gi4Ch2M",
        "outputId": "7f8e7de8-c691-4f14-95f5-d488cb921b4d"
      },
      "execution_count": 3,
      "outputs": [
        {
          "output_type": "stream",
          "name": "stdout",
          "text": [
            "Pearson Correlation Coefficient: -0.8258399037600193\n",
            "Pearson P-value: 0.08493229891786427\n",
            "Spearman's Rank Correlation Coefficient: -0.8999999999999998\n",
            "Spearman's P-value: 0.03738607346849874\n"
          ]
        }
      ]
    },
    {
      "cell_type": "markdown",
      "source": [
        "Comparing the results:\n",
        "- Pearson correlation coefficient measures linear relationships. A positive coefficient indicates that higher exercise hours tend to correspond to lower BMI values (which might be counterintuitive).\n",
        "- Spearman's rank correlation coefficient measures monotonic relationships. It provides a more general measure of correlation without assuming a linear relationship. The correlation might indicate the direction of the relationship more accurately.\n",
        "\n",
        "# Q4: Calculate the Pearson correlation coefficient between TV hours and physical activity."
      ],
      "metadata": {
        "id": "Att8IIbdCmX-"
      }
    },
    {
      "cell_type": "code",
      "source": [
        "import numpy as np\n",
        "from scipy.stats import pearsonr\n",
        "\n",
        "# Example data\n",
        "tv_hours = [2, 4, 1, 5, 3]\n",
        "physical_activity = [30, 15, 45, 10, 20]\n",
        "\n",
        "# Calculate Pearson correlation coefficient and p-value\n",
        "corr_coefficient, p_value = pearsonr(tv_hours, physical_activity)\n",
        "\n",
        "print(\"Pearson Correlation Coefficient:\", corr_coefficient)\n",
        "print(\"P-value:\", p_value)"
      ],
      "metadata": {
        "colab": {
          "base_uri": "https://localhost:8080/"
        },
        "id": "pbBGRq0MCvle",
        "outputId": "37358ea3-8723-4abc-8585-7ce7eec15a5b"
      },
      "execution_count": 4,
      "outputs": [
        {
          "output_type": "stream",
          "name": "stdout",
          "text": [
            "Pearson Correlation Coefficient: -0.9686648999069225\n",
            "P-value: 0.0066271774877253034\n"
          ]
        }
      ]
    },
    {
      "cell_type": "markdown",
      "source": [
        "Interpretation: The Pearson correlation coefficient measures the linear relationship between TV hours and physical activity. A negative coefficient suggests that as the number of hours spent watching TV increases, physical activity tends to decrease.\n",
        "\n",
        "# Q5: Calculate the Pearson correlation coefficient for age and soft drink preference.\n",
        "![image.png](data:image/png;base64,iVBORw0KGgoAAAANSUhEUgAAAXsAAAELCAYAAAA4HCbKAAAAAXNSR0IArs4c6QAAAARnQU1BAACxjwv8YQUAAAAJcEhZcwAAEnQAABJ0Ad5mH3gAAD4hSURBVHhe7Z0FnFTVF8cPLN3d3SAlSHd3t4SIiIWKlALGH5BSERVslEZCQrq7u7uR7q7d5f9+Z94dhiUcYJlZ9v2+n32feXPfm3mzM/f+7jnnnndvhLsWQgghJMwSGBgkt28E2s+ejoj2IyGEkDBKcFCwvff0UOwJISSMczf42QMwFHtCCAnjBFPsCSEk/BMhQgR77+nRAdq1a9dKYOCzBf8JeVJu3rwpx44dk1SpUknUqFHtUkJISG7euG2Z9/aTJyRNmjSSPHkKl9gnSpRIzp07Zx8ihBASXujR/Uvp8FHHe2KfM0NRKZm/qn2YkOfPhh1LZfqS0dK8ZjtJlyKrXUoICQ3uBN6WvoM/fFDsy75SXyoWrW+fRsjzZ+WmufLnpK+kW5tBki4lxZ6Q0OTOnVvy7pfV3WLPAVpCCHEAFHtCCHEAFHtCCHEAFHtCCHEAFHtCCHEAFHtCCHEAFHtCCHEAFPvHEC1GZEmSOq5ukaNEsktfDBKnjKOfO3a8aHYJIcTJUOwfQcw40aTRB8Wl5usFJMcrqSUoMMg+8mKQJU8K/ex13y4sUaO9WB0VIST0odg/goLlM1nWfIAEBQXL6jl7QmWKUV+yyvrMZ49fVo+k5hsFJSASf+rnCWYlTJomnuQtnl7iJYpplz5/ClfKIhUa5ZHY8aPbJS82AQERJXPu5JK3RHq7hIQWL4QCJEoRR1JmTKBbzLjPPyyRIn0CyZgzmdy9e1fmjd0iN67dlljWdc1nQHjHkxTp4ms5XhdWCAoMlrUL9ul+3IQxJLn1GcmDwIPL8FJSyZI3haTKmFCiPIUXFMnqSMs3yi01Wr4ir5TNqGIfMSCCJEgSS7eo0e+vL/9FqdovSc1WBaRkrRx2ycNJlDy25CyURtJmTSzFq2e3S72jZM0ceo0ydXPaJY8H1zL1X7cMCSRh0ljW/xl6EhIvcUxp2qGk/v/5SlHsQ5swL/YRIkaQ8vVzS5Wm+XQrXjWbfeT5kS1fCn28cfW2HDvomg0UAl/51Zf1MxSrZjUse3rp6DGjSKWmrvJchdO4CsMIxw6cl7MnL+t+wbKZLetTd4lNjgKppUm74lK2Xi4Vv8rW79jwvaKWsMWxz/COVJkSStosiXX/4tlrcuvmHateRNUQGrb0OZLqMW9BB5EkVVxJkDiWXfJwLpy+Kuet7dqVW7J383G71Dvim2skjW2XPJ4C5TK726BuzfJJnbcKS723C0mcBDHss56NPEXTaWcLI+vcySt2KQktwrzYR44cUWLEuTfXOQYeHxeSCIjknaLhPSI+4m2SpIyrj//uPyfBQa7wzdkTV2TPJleDSp89icS3G2KmXMnV9QRbVhzWR09wnceJLI55+5kfRSTrO3rU4gZblrs+U4JksSR2vPDh6ocGseJGlaJVXJOvIVR36ugl3Y9mdd4VGudRyzwkkSIHPPR7jmfXBbzP9OHr5cShC0/csf5XPXkYQVbdnPjLKvlrwFLZt+WkXepb4iaMKZWa5LWfeQfq68NIliaePh4/eEH+GbxW9z1BO4toGX9PA363gEdc90nBe/2XRwMjNTS9ntAgzM96iQYJC+zWjTsud9jS3qlD17obJ0DDrNosv7sjgGW1YfFByV8qgz5fMWu37N5wTM8tUyenpMqcUKJGi6wWxHXLet+4+IDsso/j/JZdyugPOmfMZjmy54yWA4RDGliWH9i26ohsWnZQGn9YXEXg8O4zMm/cZus9rc9j/dCIoyZNHc9lqQTjOrdkpfU5Du1yvR8+c7Xm+TVEpZ/Z+v/WLdwvBctn1tcvm75T9m09aVlOhVWkjx04J0GBdyV1lkQywxIUWJDwNBImi62vx4LEl85dl1mjN8m1yzf1GgDH67QppPszRmywGtJ53Q8L+HPWy5cKppYilV3XnPjrKjl/6qqGRBCKw++1YOJWDYXFjB1VyjXIrZYwxnDwPV+7bP2Ws3dbdeOs5HgllRS23seIEF6zfMYuKWZ5oPhdAMZ78J6jLVHG7+xJ1pdTWFZzJokWPYp1XrCcPnZJx1nwu2HMZfLgNZLMqkdVmufT8zcs2i85CsKDvCt/fbdMmncuJZEiBci6Bftl66rDUu21/GqsXDp/XZMKEiSJraJzw6p/COvt3XxC36dW64KS2Kp7F85ckwk/r9RQFrwb1PtTRy/KbKseofMywJJH6Ab17u+fVmrH9HLJDJLPamNoR8P6LLQ+V2rJXzqjBN4JksX/bJcS1XPIkX1nZemUHdp2dGzBqsv4XgKt7+mS9V4zrTp50/pOKlodbBrbO8L7wcga1m+hfh54XugI0P7xPSKsus76X/bY/0v1llbbTxHXMsguyxnrO8uaN4XMn7BV/t13Tr9ffMYYsaKqAN++GahG3MKJ2/Q6mXIn088J1lvfbZ5i8C4iS+DtQDlqvX6B9T6GLNZ7vWL9f9FjRdHPhd/yyN4zsnjyDvsMkdxF00quImnV4wc3r9+RQztPWe15lz73JS/UrJdRokaSbPlT6f6Odf/K6X8tgbcqWZHK90I5+NIrNMwjydLG00qECgoLoEilLCq0KEPFxFa2Xk7JmCuZvu+pfy/Kdcv9RWNGh4K4J0hsNRS8JyrCiUP3CyPE1LjLWfOl1E4IQg82WB2GEfqKlqWTOnMiiRw1wLrOJe1QEBsuWz+3ignev1KTl3VAz/2ZrUcIBATF9Zld4oF9bIgnp8+RROPDAAOBcMPxfcDjwDUgSBWb5HG/FqBhGDDuQFxADA2lLQMAoRZ0+HPGbJK5VqcN0Ta/Jb5n/C43r9/W7xaDoRAgCBiE3HPlfwgdygI9sreCrfcKvP1gNleytPGlRI0cEi2GJQzWTwYBTJYmvgr9fVjHTD3IZ4lNTMvTNT9xgCX0KDedDeo+niMUlCh5XP39cW4Mq54XrpRVj4XEdSyL1mW0CRg5nkL/MFDX71iC6Ma6PsQU7492V86q6yqK1iG8f7UW+XUsA9/VySMXrS/lrv6f9d4toiFSfN9oc+CudWnzfaFNoG1C6CHkVy/d1PcrWeslbWMAnRmua8YwIlvtG6BzKlolm7a9q9b/Bf3A74iOzYxV4PfEa7HB0Lp9K1A7XbwHzsPYHYA3X7xadr02fl8YlPhMmXOnkIIVMus52a2OH+EuCD2MB2z436Bhhexz/AF+f/U07OdhElQGU4mPWb3x/m0uVxU/aiw7fxyP5keHRfLXgGUy4uvF2nt7gkZhztu87JBM/XOdWkYXLcsGlQU9OohhVVAQeCfYqswPNtDlM3fLHatCoNLAYgCwls+fcsUYEb+EMIOV1rlT/1wrf1uWExoG/hdYGhALVERw4vAFdcNHfrNEjofoXDxBpYSXAesDljsqMEDj3LDkgMz/e4uKlYYQPH5VT5GJYnU+xAWsvkM7T+s+hLFc/Vwav3+ljMtyAwjRqfBaGrR63l4Z1X+p5VWu03oBYcRAIr5z1CcAwRr/40rZt+WETPxltZaBVXP3yohvFj9g1WfOk9zeE+1ghvdbJHPHbrZLHg48RHiVm+3w3KOAaI0duEzGfL9M1lifHSAFN2RHgjqJMAwsX3QM8P7QYT0KnIfB4FKW2OYrlVHLrl68eV89Q11FHd1kfS/wZCGaRiQn/b5Gplnf4azRG/VcCCM60/l/b3V7pEf3n9XvK5ZVxzFwDvA//GN5ORN+WaXWMnipgMsQNKCNo/7D8Lp8/oYlsFlUxBH/H/fDcplitUV4PyC15d1DBD3ZuPSgjLXOg+difisMuAMIOb4rXHv0t0usbakc2H5K3xueF/Qgm2UA4j3RqUz6bbV6jLs3uiIGMAyfZvA/NICniE4nTIu9+aFR+U4fu3xfCCJpKld8z7hLYOvKI2p9odGh0RhLAcCaNzdGwdVq2bWMbnETuQaXPN/ncaBSH7bcd4Nea9wWtXQAKrWhkGUt4RpNO5RwXxux/vs/82GtQPgf51oW1aOAiwqLa+OSgxpGOGY1CDQeuMWNPyiulhTcfrjzZpxB8ajQHl8HsZg3fouKGwY50YHDUkPKH0IcaNgI94EbVp3auuKw1ic0ZBPaQ7jEeHZPA4wWgESAw3Z4D+FAdOCPYoVlQCCtdvuao3bJw7lseS4QYWBCNyBWiHEbeCfoAFA3lk7dKVcu3rCPPBwIFkQNHRVi7/huEDIJybRh6zXUgu8KnSnAd4oBXbQJhIUM6qE+hNjx7w385rc6YbyuWaeS1u/kakuJUtz/OnRwM0asV7GHB2Cy5hIkjSWvdSmtr4flD9AeQw4so22BKxduqOEIoll1AgJuzoVRd+tGoLZ7hHgg6uhEYACY9FeEZs31MudxaRgsa2iQv0AHHGbFHg0PIRdD3bcKSfmGeexnLsFWPHXN479BxfLEU/gh1ojhY9ux9qjVcI7IHjs8AyEF6KmNOxiSpVN3aMUCqBQQiodxaNdp93VwDWz7tqLh3fssETxGiUN+Zk9u2NaMYa9lPU6wLJA9G49rxUOIBhZXjddf0YplwP9hQLyS3A8MCB3ktLw8I4qwKONYDdezznji+f0+E3akJORA3uPe/3EdwX14fPRH/R/AhGtwRW8SBSCisMyxwQoe+/1yNTI8geHi+TnN5WGc7N50QtvDrg3/utvEqSP3xt/u597nPuzRlkyb3bX+X/uoC3Rw9/7Ve69F+NW8dqf1GnPdkJ4WxgMMIb8y89yb3x7fh/t661yfFZ/5UTrhK8Ks2CNOZ8QP1hPifbBCDLBGsMGtNSCODUsX1gfSIdGbGfBFG4GGu7hy1h7tyWPEjma9Job7XMQFUSlByvQPz02HuJofznMwFHg+P3fiil5n+5p/LTGOrteB4F6/ci+Onrd4OhVqWCv4zI8kROVD+meB8pnksmWFYCBrxUzXAFBcywIx2UEAKYCGqyE+q5OBIYGcbmzwIFE3zhy7JzrIdPl3rysUCE8sf+kMWh8RCkxjhwMxpvPIkIeHWsSJF03DCSE5fdx1Pfz2+Ayog7AEH+dlPk64nwZYsQhpQe0Rk8a4z+PA/4uYOzYI/yP/fw/O2em/YOe6f7VNYCwL7QHbo7wJiLTh0vkb+rptq466X+c5HhUSeLdGG/CdrZm7T1+PfxSvxSCsCQd5w6Xz1/QRXgrGTGClV3o1rzR4r4gaojCqLp11fV781qvm7JU18/ZpaAnXi2npzJ07jx8Hed6EWbHHgAiAezT7r00ya9RG3eA6GTFOly2JCtj+ra5YPsS/4fvFpHmnUu4wjwGDXybmD1eukXVek49K6HVSWKJ+/NAFPYYBpKt25UOs8UlBrPDAdtd1MOCD6yCjBp0XroMY39VLN+TgzlN6DjIiMC1Ds46ldd9bYIXg/89fJoMOFiImCO5Yjc/TQkmY7F7jRcMmLo7uPavfE4QVg6T13ikihSpm0WPw7pC7jvpiOgBknrz2SRmNb8P4QGe/+J97WRghgRDhdwa5i6WT17uWdY8FGDCwbuoyMmFadSsrpWrlcJf5AvQdGO+B0QBvuoplcJgwSWiB2DasbnSWEMYGbYtK2bq5JE2WRBpG9TTYPEFngvEJ8HKJ9NL4w2JS9+1C+jrc23Du1FU99iiWz9it+oHQadOOJTVzDllYeP3DxuMex/bVR9ULwneE98H7pc6USOIkiKn/H95vu2W9o2OBDr3aroQ0sTaEvDA+cPrYRdUWfxImxR5ZLEijhLUFVwgNEwOu2DCods2qBDgG8YTFizQvnIMyfNloaAuROhfiy10+fZdlZR/VGKm5ExeVcNHk7XLysEvsAawOkDxtggdcbMPtW0F6PXQinuD6Cydt13ANPoe5DqwUpLPBc0ADWzhhm2VReXxmq8Iv+HurupYo0wZv/d0x1wlhQSFuCzG6ZXkKSFmDR4MMk8XW/+J2za3GZWKUJpOBuICHBePh3Kkr+t3Ca8T3hrGRqUPWasPEb4BxEoR68LtArNCoEeOfOXKj+/vE6/AbYdMfzQKvnTt2iyYAmN8Uv7MnZ45dVuMF3iAsUdQlpPthXADno+MGeJ15/xBv4fZYzW+Oz+f5WoN5vREc93nWI7YVM3bp54xkWahI6Q3pieA7Muc/CmQdmet4Agt6+vANauHj9air+NzwDib9utodXnxYXcfArMk2gxceMWJENagwoG3a7KM+GzpqtAe0cXi7GE9Dm0RIBf8vwO/0sM9s3vO2/Z7Ql0UTt6kXgt8KXhhCVQjRYCAaYGAe4x6oF1GsDhMJETgHA/gYT/Q3YT7P/mlBVKZVt3IqeEum7HDfEOUNyOmt3vIV3cdALwbNXkTQCSB/GUDAPO9NCAv4M8+ekPCOybPv27evfPzxx2E3jOMtsLzhUrX4uLTUebOgxr9hlVRsnNc9mPKkNxLB4sBADkCIxBfz8YQ2+N9Nbi9unIFlTwhxLi+82MMtXfLPDokcOUASJo+jaYgtPynjzqlHqONpwhcYvIXLho6jRPXsz5Ri5w9K1cyhoQm4rTNHblDXkxDiXF54sQeIpy2fuUvjrbh5KfjuXY2DInSzbNpO+6wnA7G2CT+vknEDl2t8z5eDZqEBbr7CZ0daodfpeoSQcEu4EHuwa/0xmfz7GhnWb5EM6bVA86YRq3/cgNJ/gUEaZClg8/dI+pNy5eJN/dyw7AkhJNyIPSGEkEdDsSeEEAdAsSeEEAdAsSeEEAdAsSeEEAdAsSeEEAdAsSeEEAegc+PEjRtXMqfOK7kyu9YqJcQX7DuyTZZtmCnVSjWVxPFdizwQQkKHoOBAGTFlgHTq1Em++uorl9hHjRpVZ9aLHNm1sgshvuD27dsSGBio9Y51j5DQBZp+48YNadiwoYwdO/berJctW7aUFi1a2KcR8vz5559/5PPPP5cRI0ZI7ty57VJCSGhw69YtKViwoPTq1Uu6du16T+zffvttefPNN+3TCHn+TJw4Udq3b6+inyfPvSUnCSHPzs2bNyVbtmzhZ4pjQggh/w3FnhBCHADFnhBCHADFnhBCwjHIygEUe0IICccEBbrW4qDYE0JIOAar7OF+Foo9IYSEcwLvBFPsCSEkvBMcdJdiTwgh4Z67jNk/EcHBwXLkyBHZt2+f3p1GiFMJCgqSU6dO6YY5jkjYh2LvJVu3bpXy5ctLyZIl9bFAgQIyfPhw+6jIqFGjJF26dA/d+vTpY59FiH85efKkzJ07V+skZkJcsWKFnD9/3j7qPcePH5dChQrptmnTJruUhGUo9l5w7do1nTnuwIEDdonIlStXdBKv9evX2yWEhG1mzZolRYoU0Tmwfv31V/npp5/k1VdflXz58snKlSvts0h4hWLvBcOGDdOpQmPHji0LFy6UpUuXSoIECfTYwIED9dGQPHlymTJlyn0bZhQlxJ/MmTNH3nvvPfcNNph4DpNkGd544w3Zv3+//cwFjJtffvlFvvnmG+0MEMZ8HAhx/v3337rheobLly9rGTyJyZMnq/FEfA/F3guSJk0qr7/+us4Mmj59ekmdOrVb7K9fv66PhihRougxhH0Q20+WLJl2AIT4Ewg24uxYu2LatGk60+iMGTNk8ODBWgZjZsCAAXouOoSPPvpIKlSooDMmDho0SJo0aSK1atWSQ4cO6TkhQdy+adOm0rFjR+ndu7eGL8G4ceM09IlyeBLt2rWT0qVLy+zZs/U48R0Uey+oV6+efPHFF2oZgb1797orfe3atfXRcOLECSlevLh069ZNp++tXLmy7Nixwz5KiO85fPiw7NmzR/fbtm0rOXPm1P2IESPq+NPu3bvl4MGDKuoQetT1SZMmaeeQNWtWHZ+KFCmSGjAQ65DcuXNHO4ejR4/qIjTdu3eXLFmyyLlz53T/4sWL+j4NGjSQtGnTypkzZ6RLly4aCiW+g2L/hMACwiIvuCMNFjssHk9g4SRMmFDjoLCYMPgFjwANhxB/gPCKAcbH47h69apa46BUqVJqgY8fP9691gUGY0Na9zNnzpTp06frPpbAq1Gjhu4jBISQTZw4ceSvv/6STz/9VFdMQseBdjFhwgQ9j/gGiv0TAEukUqVKar3DKoIlFCFCBD0GcYc1D6sIGQ5YmAPWDkDFhvVDiD+IFSuWvSdqwT8OiD0MGVC0aFF9BK1bt7b3RFatWmXvuUAmGoCXi9i/Ae0A4D3h7WJwuGzZsm7DZ/PmzfpIfAPF3kvQSOrXr69WEiyTkSNHSv78+e2jog0EsfrEiROrRQ+wkDuAa2wGxgjxNQjbILkAfPnll+qdGjDmBCGHt4q4Puq2MWAQhjFg/MmAOu5J5syZ9XHRokX3dSbmPIx5IZHBbBgn+OOPP6RNmzZ6nPgGir0XrF27VsM1iG3CokfjOHv2rGbazJs3T4UclbxDhw7ywQcfaKPB4BeyeADcWC6oTfwF6p6xuGGstGrVSq3xIUOGaMwedXjJkiUq2jBQsEwpQAYNQi3z58+Xzp07axmOlyhRQvcNH374ocSLF09j89g3efuvvfaadhzI7UecHskNCxYs0DVRkefv6XGQ5w/XoPUChGMwYPUwUqVKJYsXL9ZOoG7durJx40b7iAtYSmgotGIehGvQ+g4sPg3BX758+QNeJgQZmTSw+gESCjCYGjJFEnUZbQGJChiMNaKPGD/Evnr16jpmhWwbWO84v3Hjxg+EfQDi+iHTlknoYtag7dH9S+nwUUda9t6AAdc0adI8dEuZMqWegwYDSwiNIVq0aFqWMWNGtaAo9MTfILSI0CNupkI6sAFigNx3I/QgR44cau1nz57dLhEV89GjR7sz0kKC7Bt0GADhHHTiYMyYMQ/Uf4xtUeh9Dy375wAsJ8TwPeOf5EFo2fsH1E/E6lE3Y8SIYZc+CM6DdY8BVYQiPesyjpmkA9RzeLaeZTjXM3QJix/XjB49untMizxfaNn7AFPRKfQkLIJ6GTNmzMcKPcB5iKsjTh+yLuM5biDEBqEPWRZyjApl8A4o9P6DYk8IIQ6AYk8IIQ6AYk8IIQ6AYk8IIQ6AYk8IIQ6AYk8IIQ6AYk8IIQ6AYk8IIQ6AYk8IIQ6AYk8IIQ5A58bBrdO45RmPhPgKLESNudUxcZyZ+58QEjpggXhMLf1ai5by06BfXGKP+Sow2VFAQIB9GiHPH0wWhwqJOVU43z8hoYtpX3Vr15MRw0dx1kviPzjrJSHPD856SQghDoRiTwghDoBiTwghDoBiTwghDoBiTwghDoBiTwghDoBiTwghDoBiTwghDoBiTwghDoBiTwjxKSdOnJBDhw7Zz4ivoNg/JRcvXpQLFy7IpUuX7BIXmGPo8OHDsnHjRtm0aZOcPHnSPkIIOXr0qJQtW1bKlCkjs2bNskuJL6DYPwWrVq2SvHnzyssvvyxVq1bVCYcMn332mZQqVUrq1KkjtWvXlsKFC8t3331nHyXEt3Tr1k1KlCjh3kqWLClvvfWWbN682T7Dt8AIwkynd+/elQULFtilxBdQ7J8QTC7Utm1b+9n9jBgxQkaPHq37qVKlkhgxYuj+r7/+KtevX9d9QnwJpriFNW22I0eOyOzZs6Vu3bry6aef2mf5jmrVqsmAAQOkR48e8sUXX9ilxBdQ7J+AO3fuSJs2beTs2bMPnQ560aJF+pg6dWq1WoYOHarPYcnAGyDEX2Bm259++kkGDhwouXPn1nDjpEmTdApccPv2bTVU2rVrp3W8d+/esnfvXj0Gtm3bJl27dtUN9b9///46U+4nn3wiq1evts9yceDAAenZs6d6EB9++KGMHz/efR20obVr18quXbv0POI7KPZPwLRp02TJkiVqsVesWNEuvUfDhg2lV69eWtGjRIkisWPHto+I28onxB+g/iHkWKNGDXnnnXe07Nq1a2rpQ+hff/11FfLJkyfLnDlz5LfffpNatWrJ0qVL9Vych84AW8uWLbXTQMx9zJgx0qJFC1m2bJmed/DgQX3dH3/8oR4Epq/u1KmTbgBib94H70l8B8XeSzDo2qFDB11o49tvv5V06dLZR+5RqVIladq0qZQuXVqfjxo1Sh9jxYqlMX5C/AUsa5NUABEGkSJF0nDjN998I8uXL9fn77//vgwePFjLEXrs0qWLnuvJnj17dDwKY1NYdObWrVvSunVruXr1qtb5K1euSIIECXRcAK/HSmTz5s1zW/fEP1DsvaRz585aWbNkySLly5e3Sx/N3Llz1eoB6ASwGhgh/uLYsWNSpEgR3WBtg0KFCqnxYrJi8ufPL5UrV5bkyZNLq1attAyvO336tO4bvvzyS006GDZsmHYOAN7BuXPnJH78+PocWWqIy+N6K1eu1BAnrkX8B8XeC1CxEZdEZS1QoID7OcA6qrD08WhALBSDuMjSQYpZv379WNGJX0H9gxWO8GKOHDnU4v7999/VgIFlDlCnMYCKDUINkDUDwfcExoshV65c+mjeByEdhIowJjBhwgSpWbOmVKlSRS1+tgH/QrH3gq1bt+ojKv7IkSNl0KBBsmHDBi2Dy4qBLzxC3H/++Wf56KOPtOKjkuMY3GNC/AnCMlu2bNFt+vTpOniKOH7EiBHdXifShJFYgA0xdXQGiL2/9NJLetxgwkDAtA3zPgj9wAseN26c9O3bV3Pqca8JYvwYIyD+g2LvBWnTppWcOXPet8WJE0ePwVpCY8Aj3FtY8QBxejQweAF9+vTRBkZIWANZZSbZAAYMrHuEbZBFgzWpYeHDG/AE95L8+OOPmozwww8/aBk6DsTpkc6JfP53331X8uXL5x4MRpgHWTzEf1DsveDzzz/XTBzPDbFIkCRJEo2B4hHpaQYMVsEyQo49NpOWSUhYAwKNBAIIMsI7jRs31vx88NVXX+mjJzB0vv76a63f8GYRnoEHgOyzjh07qpUPYUcn0qBBA30NDCZsxH8E/M8CP+grr7yiAzTEO5DZkDRpUsmTJ48UL15cK3y8ePG0EyhXrtwDW9GiRTX/ntxj586dGhJo0qSJJEuWzC4loQmyb0w9LVasmF36IIizw2NFrD1x4sSaPoksHRPCQc698U7xm8G4QZwe9RrhGljxAPn8jRo1koQJE6roQ+DfeOMN9QZg/SMUio4A10K7wWcjzwd0xAg5lylTVooWKSoRrC//Ln4g3CABt40QXzFx4kRp3769ekYQIxJ2mTFjhoZmAFIq48aNq/sk7IK7/bNlyyY9un8pHT6yPC67nBBCSDiGYk8IIQ6AYk8I+U8yZsyo945g4w2CLyYUe0LIf5I1a1bNtMGG6Q/IiwfFnhBCHADFnhBCHADFnhBCHADFnhBCHADFnhBCHADFnhBCHIB7ugQsS4blxgjxFZgmoVu3bjqdLtZFJYSEHpguAXOedf+ih3Ts0Nkl9uYmCd4sQXwJZlnEvP/Ro0fnnP+EhDKWtOvsu/XrNZBhQ0a4xB5Tk2bOnNk9cx0hvgBTQmP+dCzzyOlvCQldsLj78OHDpc2bb8mA/t9z1kviPzjrJSHPD856SQghDoRiTwghDoBiTwghDoBiTwghDoBiTwghDoBiTwghDoBiTwghDoBiTwghDoBiTwghDoBiTwh5Jm7cuKHTXuzevVvnYyFhE4r9E3Dw4EHp3LmztGvXTmbPnn1fxd61a5ds3br1oVtwcLB9FiHhj6+//loaNWoklSpVks2bN9ulocPOnTtl4MCBul25csUuJU8Dxd5LMHdQ2bJlZdy4cTJ58mR56623pEKFCjprI2jVqpXUqFHjoRtmdyTO4vDhw1K0aFH3dvz4cfvIPX766Sf38e+//94u9Q9169bVCel++eUXu8R7YsWKZe+JRIkSxd4LHbZv3y79+/fXjWL/bFDsvWDp0qUya9YsteRr1aolLVq0kICAANm3b58MGDBAz8GEQ5iT3WzJkyfXclR+nEucRWBgoAq82aZMmWIfcQEjYciQIe7jly5dso/4hwMHDmh9Pnv2rF3iPe+++678/vvvMnXqVMmRI4ddSsIaFHsvOHr0qJQoUUKqV6+uFliPHj0ka9asegzhG/Dnn39qg8aGWRxTpUql5Vg8IHLkyLpPnAvqhGfYb9q0aXLmzBn72f1AeD/55BMpXLiwGg6vvfaaLFy4UIKCgvQ4QoOVK1fWDWEOA2YQRRm8ToCwozlv5syZ8t5772l9rF27toYhAbzOBg0auK3mCRMm6PlHjhzR57Cs4bXmypVLLX8IOowdnIOFZ8CiRYvU8u7UqZOcOnVKDh065L7u9OnTtb3gfylVqpQMHTpUZ2N8GOjwevfuLQUKFNDP2bdvX7l27Zp99B6YuhcdZdWqVeWll17S8BE6G3MuvHDPz4cxhSpVqmhZvXr13N9j69attWzQoEH6PLxDsfeCV199VUaMGKFxQzRQWPr79++XiBEjagcQEiwYgLnaQf369fWROBuI8sqVK+1nIpMmTbL37gfWNcKFY8aMkZMnT6oIL168WFeSw4pe4Pr162pkYIOQGSCyKIPIA4iqOQ/WNwQflvumTZu0Q5gzZ452QHv27HEL4IULF/R8eB579+7VMOSCBQv0c+Czvf/++/p/4BwYQQAiba5jFqQxz9u2bavCjE4Aoa3//e9/8scff+jrPIEnBPH97bfftI3hcyKk1LNnT/sMFzivadOm0r17d/1O8RwDw7169dL/Ef9HlixZ9Nrjx4/X52irOBdl69ev1+f4DufNm6dladKksd89fEOxfwJQqWGhNG/eXCs0rC9YCiFBaAeNMGnSpFKzZk27lDiVjBkz6iNi9ODixYuyatUqSZAggT73pGvXrvaeyHfffaeWdLJkyfQ5BA6C+TS8/PLLaqTAsjZxdXij2IeVHydOHC1r3LixrFixQtKnTy8///yzJhdEiBBBRRveBSxkWNbegv8RXgzWLjDAcAqZtYOOZ+3atboPax1hUwg9xNwTiPWaNWt0Hx4DPusPP/ygnxGdIjo0eOEAHc+xY8e00/IEnd3p06ftZ67rOQGK/RMASz5lypTuJfTQcGBVeAKLZNiwYboP95vL7RGs7QxRRaYKxAuhCjwWK1bMPsPF+fPn3YLXrFkzDbfkzJlTLWHUPbxm3bp1evxJQQYZ6m7p0qU1JANgxUMk0Zng/QEGW1OkSKH1dsuWLVqG43g9OoB+/fo9UZ3++OOPVUzR2SCMBOCxmMQGg7kW3hshGYyBwahq0qSJlhs8vSNY5ehAkfZpPv/GjRvvW/UMnaP5TjHeBvA7GLFPnDixpEuXTvfDOxR7L4ALi4YIlixZojFTNEIMrHXp0uU+KwXWhXGJYQURkjBhQilZsqTWI1jrCIsAxMo9QfjP1KVMmTLpI4gXL56KMjCx9YfxuBRfvIfB27WmEeoASDYwAo8lTLF5C/53g/FQQEjL3lwLyQwxYsTQfZA9e3Z7zwU6KAOEH+MF8JIg2PCg0FlBwI3gY/wD1j/KO3TooJ0CLPsdO3bocXjmTkmgoNh7wUcffaTr88IygJBjgWyTbXPu3Dl3I4N7i8YMkJYJS4gQUK1aNX3EYCC8P4h5oUKFtMwAMTRCjIF+xNxRtyBWxoCAqHla1oijA4QNzf7TYDoTT4sbFj6AMBpLGFaxp+CGFuZaaEMYFMb/jc4PYxeeeIo/wkHz58+Xv//+W7799lvd4EXhf0H8HyBEhbGM+PHjq2eDjgAeAV6H84y17wQo9l7QsGFDfcTAV/78+dW9njt3rpZhcMdYBqhAGLRCJYL7SogBWR+eFmTI8ARAqMesA71hwwbNSkGoB1kuAGNAiEfj0YCb/JCVUrBgQRXHpwViCEaOHKkZQOg4ypQpo2XodNAx4X4A1P3nAQalAUQeA7C4FtqascANRYoUsfdEB4/x3RhDDBuML1CnTh3tFNFRgrx58+r3D8FHx4nxC2TJeX6X4R2KvRcg5Qx3CAIMrsENBBkyZNAMHcPYsWP1EYNdThnhJ94BbxBjOAakIT4MZJSgvgGEbE6cOKH7EGPc0GcEC3F/Y41DECFgzxJ7Np0PwiuXL19W0UXKJTxUU46wJVKKEyVKpGWhCTJocCeuAXF9WPnoyDxBuxo1apR6QAitIuPGhIQQ6zfhLxz3HAA3iRQYOzDgO/UMb4VXXLXEerS+qLv48ZCbaqwK8iCo/EinxAAQXF1UelhZJn6JCoeMA1RQhG9CuujkQfB9ITccOeh58uSxS8MHEMwZM2boPqzz1KlTq4AhxgyLEnesok5BrADu2zBChLqEODREHBklMCowsOoZa8c5GKxFnUQ5xgQQnkCIKG7cuDpeBMMEWS2gYsWKbvFDVg1SISF08DgMuB5CKOg48Hq8D66P82Hp4/UQf8TKkdOOUCY6LcTFTYYMrG0MJCMrBqCNoHMCeA8zwIyU5JADvfifMB6GAVfsw4pHrB3PATLbTDwfHjQ+B9I0YVyVK1fOHQoy4PvH74BOEWKP62HA1gzyonNEdl14BR4ZBrp79vhS2rfrSLEn/iM8iz0h/sYt9j0tsf+wI8M4hBASngkIcMk8xZ4QQsIxCGNFiBiBYk8IIeEZl9jTsieEkHBPQAAte0IICfdEjhKZYk8IIU6AYk8IIQ6AYk8IIQ6AYk8IIQ6AYk8IIQ6AYk8IIQ5A58bBREqY8IgQQkj4AovkYMZUFXvMbof5ox817Sohz4Ply5fr+qRY95QToRESumAiNKxbjBW6vvnmG856SfwHZ70k5PlhZr3s27evLqbEmD0hhDgAij0hhDgAij0hhDgAij0hhDgAij0hhDgAij0hhDgAij0hhDgAij0hhDgAij0hhDgAij0hhDgAir2X/PDDD9K2bVv3tm3bNvuIyKFDh6Rly5ZSsWJFqVy5snzxxRdy48YN+yghYYtbt27Jhg0bZNOmTXL37l279Mk4deqU1KxZU7ft27fbpSQsQ7H3kpUrV+qkXWY7ffq0lu/Zs0dFftGiRbq/a9cuGTZsmM40R8EnYYnDhw/L66+/Lrly5ZK6detK7dq1JWfOnGq8nDx50j7LOzBL7pYtW3S7du2aXUrCMhR7L8mcObNkyZLFfnaPXr16acWPFy+edOrUSdq0aaPlsPzRQRASFjh48KBa4QsXLtT6GitWLIkRI4YKNYwXeKYhRRsTae3fv192794tly5dsksfDc4/fvy4bsYYAsHBwXLs2DE1hE6cOKHPie+h2HtJjx49dAvJkiVL9LF169by3nvvSdeuXSV58uRatmPHDn0kxN9g5kMIdoQIEaRbt25qkW/cuFGqVq2qZRDi/v3722eLzJ8/XwoUKCDlypWTSpUq6ayk33//vQQGBtpn3A/CQW+88YZOlV68eHGZNWuWlp87d069iGLFimmIs0iRItK8eXOvOg8SulDsn5EECRLoIxoLgHVz5swZ3d+5c6c+EuJPIKxz587V/SpVqqhhEjFiRMGiRYMGDdIppidPnixNmjTRc+bNmydvvfWWXLlyRZ8bBgwYIF26dLGf3Q+mqzaebLNmzaRFixa6X6dOHR0b8ATrGDRt2tR+RnwFxf4ZadWqlT7CFa5QoYJaL8b6gfAT4m9gdJjQCdasgCVvgOjnzp1b8ubNq6FK1NmOHTtqHU6XLp1MmTJFx6NgkQM8v3z5su4b4MEihIlroA3AcwB//fWXHDlyRKJEiSKTJk2Sffv2yfDhw/WaCHPCeyC+g2L/jGDACwKPCr13716Ne5YsWVKPwXIiJCzxX9k38AJM7B4xfnQEEH2seASQybN48WLdN3z99dcq9OnTp5fevXu76z0EHkSOHFkGDhyo41lDhw5VsQfG2yC+gWIfCvTp00dj9ytWrJDVq1dLkiRJtDxZsmT6SIg/yZEjhwQEBOj+r7/+et8AKfbXrl2r9RYeADoD0yF4GisYzDWEXK/anI+QZsyYMXUfmPOCgoI0dm+2l156SccAUqRIoceJb6DYPyODBw+WfPnySbVq1SRhwoTq/k6dOlWPYUkwQvxNnDhxpHz58ro/e/ZsGTJkiAo0xPidd97RNOFGjRrpotSxY8dWSxwgNGnEH/eOGMx7GRDCAevXr9fsNAM8XgCxHzVqlI4NIOaPzgebOU58A8X+GalRo4a6pbBYkIVQunRpdXURF8VzQsICn376qQo56Nmzp+bXw7qG+AMYJp07d1bLHI8Alj5i+YjXL1iwQMtwT0ncuHF13wDhxnuC0aNH6w2IACHOxIkTy507d7QtQNwxcItY/rp16yRDhgx6HvENFPtnBPFMrNyORduRhYMcY1RwWPx0U0lYIXXq1DJjxgxNo4Tljrg8bvpDeKZhw4Z6I2D06NH1XIg0BB8eAWL45oYrnOeZnmmAYfPqq69KwYIF1Qv48ccfZfr06RoG+u2337QzuHjxomaswZtASieygCJFimS/A/EFEawf5y6E6u2339aRevJo0DhwcwhALr1nfBKxT2QbgIfdfEUeBOl67du3V/ceVibxDdevX1fhRRwfFr6J54cEmTmbN2/WR4QqjWcAYK3jjlyQMmVK7SjwvjB2AIQchhBAB4Cbs5CZg3OzZs2q5eT5gt8NHhvusfj4449p2T8JqNCZMmXSzVPoAUI5EHkKPQnrwJqHeKODfZTQg2jRokmhQoWkVKlS9wk9gHdg2oLxCPC+pswIPYDlj7KyZctS6P0IxZ4QQhwAxZ4QQhwAxZ4QQhwAxZ4QQhwAxZ4QQhwAxZ4QQhwAxZ4QQhwAxZ4QQhwAxZ4QQhwAxZ4QQhyAzo2DWewwRwZuoSbEV2AdVKwDgEUy0qRJY5cSQkIDzF+E9QswBfVXX33lEnussoQDhBBCwhf169eX8ePH35v1ElOUctZL4kuwbB0WxRg5cqQuf0cICT0w6yWmncaCMl27duUUx8R/cIpjQp4fnOKYEEIcCMWeEEIcAMWeEEIcAMWeEEIcAMWeEEIcAMWeEEIcAMWeEEIcAMWeEEIcAMWeEEIcAMWeEOIzbt26JU2aNJEaNWrI4cOH7VLiCyj2T8DRo0fl3Xfflfz580v27NmlfPny8v3330twcLAe//TTT6VBgwbubdOmTVpOiL/ArKKjRo26b5s7d65cvHjRPsO3zJo1S1auXClbt26VQYMG2aXEF1DsveT27dvSokULmTFjhpw/f14Fft++fTJgwACd0Avs2rVL1q5d694uXbqk5YT4C0wy161bt/s2zIFVunRp7Qh8Tbly5aRw4cI68V2rVq3sUuILKPZesmLFCnU7I0aMqHNEwzLJlCmTHsOscqBs2bJSqlQp3SckLIFpzPPmzSs5cuSQqFGjqmXfsWNH+6iLK1euyO7du7Wunz59+r5pzxF+QRm2oKAgOXfunKxevVoOHDigE255EhgYKCdPntTjO3bskKtXr9pHRGLGjCk//PCDDB48WDJkyGCXEl9AsfeSQoUKybJly2T58uVqnaDxpE+fXo/Fjx9fHxHiadOmje4TEpZIliyZTJ48WT3T7t27a9mZM2fkxIkTug8BhsVdqVIlne68aNGiUqtWLbl+/boenz9/vk6Xa6bMxbmNGjXSUCZeg84AQOjr1asnxYoV0+NVq1bVc8eMGaPHIfzmfebNm6dlxDdQ7L0kevTokiJFCkmaNKnG5lGh0QBgJSGUQ8iLwoULF+w9kWjRomkcHWJ/7do1yZUrl9SuXVsiRYqkVvnrr79un3mPP//8UzAtOla4QzgTHm/16tXVE/j9999l8+bNagxhWl10GhD4/v37268m/oJi/xTAzV2/fr1WdIRuMGc0IWEZhF9gsTds2NBtnKRLl07ixYunz2GRQ+jHjh0rvXv3lg8//FDP2bBhwwNhmjp16qiHu27dOrXqwcGDB9VTMB0JjCC8HxIYPvvsM10vg6vh+ReK/RMSIUIEbQgYXIJlM3PmTGnbtq3cvXvXPoOQsAcEG0bKmjVrdNwpS5Ys8scff6jIm0QCjEMhpo+tX79+WgaB3rlzp+4bunTpou8ROXJkXfIO4H3gGeA5rH6MCTRr1kzDn7D0YRThfOI/KPZegsWxhw4dqtkNcFk///xz6dChgx6bM2cOM29ImCZ16tSaLYYBWIRnZs+erQOkMF6wAQzg9unT54HNjE0Zzp49a++5BnUB3sN0IqtWrZLvvvtOsmbNqt7vlClTNOxJ/AvF3kv2798v//vf/3TNVAwswZJZtGiRfVQ0xklIWAVijPg8wisQZSPwqLeZM2fWfQzWlilTRgdWUbeHDx+uQo1Qjyfvv/++7N27V8M4JiQEqx2eLtY6xcDu1KlT1etduHChHke6MjJ3iP+g2HsJsg4wQAtLBVk3aCALFizQY82bN5dYsWLpPiEvGojRJ06cWE6dOqVZNDlz5lTLH+GbfPny2WfdAzcXVqhQQUM22AfoIBImTKj589u3b9e2gUwctA2ADiNNmjS6T/wDxd5LYseOrYNXuBkFoo90S7i3qMyw+A2wnFKlSqUbLClC/AkEGHURqZePAseRYVOkSBFJkCCBWum4hwTZNJ06dbLPugfuM8Ed5LDkU6ZMqW2gZ8+e6i00btxY4/0I4SDX3mT4oAxeBM4x7QMZbsR3RLhrgQEVjJbjzjpCfMXEiROlffv28s8//0iePHnsUhIWQX4+PFqAAVcIPQnbYFAemYJ9+/bVjpuWPSGEOACKPSGEOACKPSHkP4kTJ47G6bEFBATYpeRFgmJPCPlPihcvrqmU2Jh59mJCsSeEEAdAsSeEEAdAsSeEEAdAsSeEEAdAsSeEEAdAsSeEEAdAsSeEEAegc+Ngki+sWoMJiwjxFWaaXKzpmyRJEruUEBIaYBr28ePH6+JKAwcOdIk9ZmfEmpG8WYL4Eix8gfVJMf0tZ0AkJHSxpF1nHm3SpImMHj363qyXb731lrRu3do+jZDnD2a97Nixo0yePFnnQSeEhB6Y9RJLTD4w66VZVowbN19urHvcuD2/zRMO0BJCiAOg2BNCiAOg2BNCiAOg2BNCiAOg2BNCiAOg2BNCiAOg2BNCiAOg2BNCiAOg2BNCiAOg2D8BuP147dq1smzZMjlz5oxdej8XL16U1atXy8qVK+Xs2bN2KSHhi9u3b8vWrVt1u3btml1KwjIUey9ZsGCBFClSRBo0aCDNmjWTwoULS8+ePSU4OFiPY4a5b775RvLlyyeNGjXSyYcKFCggn3/+udy5c0fPIcSfoK5u27ZNfvzxR3nzzTfl7bffluHDh8u+ffvsM7zn1KlTUqNGDd22b99ul5KwDMXeC2Cho2FcuHBBYsSIobODBgUFyR9//CFz5szRc4YMGSKDBg3SBoVZHOPHj6/laExfffWV7hPiL1Avf/31V6levbp8/fXXMnfuXJk1a5YaI+XLl9epcEn4hmLvBSNGjFC3FQKO8MyqVaskZcqUemzw4MH6uHjxYn1Mnz69hnGw5c2bV8vgFWC6UUL8xd9//+02OjBBVu3ataVixYr6HHTp0kU2bNhgP3OBcGW7du3kjTfekFGjRsmtW7fsIw9n06ZN0qdPH92GDh1ql4ocOXJEevfuLS1bttSO5vTp0/YR4kso9l5QqFAh+fLLL6V79+4SN25cteyxBgDAjI0gc+bM+ggLKmrUqLo+gCFDhgzu8wjxNTA0vvvuO32MEyeOLF++XJ//9ttvMm3aNEmVKpUkSJBA5zwHCDs2btxYw5WYfnr+/PnSrVs3KVu2rGzcuFHPCQni9ugU4D1Mnz5dqlSpouXff/+9diq41qJFizSEVLp0afV4iW+h2HtB0aJFteLXrFlTn2OQ9uDBg7rfvHlzfezUqZPkzJlTDh8+rBUdsUw0DAh9v3799BxC/AFi8sePH9d91NPkyZPrPkCdhQW/Zs0aHXOCsfLee++p9woPoFSpUlK3bl01YI4dOyadO3d+wEu9ceOGvPbaa3Lu3DkNc8J6T5o0qVr0P/30kyY2QOC7du0qr7zyily/fl29jEclOZDnA8X+CTl//ry888472ihgzUPUAVxTk31z4MAB96AX4vys1MSfnDhxwt4TTSx4HJcvX3aHJKtWrSrDhg2Tb7/9Vhe/AFhKcufOnbpvGDNmjC4vCe8VHjASGcAvv/yioR+EPz/77DMdG+jVq5d6vVihDKEl4jso9k8ALBdY+RB1VFjE6014pkOHDroEGCx5ZCcgJe3ll19WsccKYBjQJcQfIERjQL18HLDSTV01Y06gXr169p4rNu/JzJkz9RFhHHgBBhPyQRuA0GOt4cqVK+v4F9i1a5c+Et9AsfcSVHBYOnBJY8aMKVOmTJG0adPaR10ZO6BgwYISKVIk3UqUKKFlWGsVqZmE+IPs2bMLlh4FPXr0kEuXLuk+gAGDeo24OqxvGDFmhaOjR4/qI0Do0pAuXTp7zwXqPBg5cuR9g7zmvBQpUsiMGTPcGzoHbJ988okeJ76BYu8Fs2fP1pgkcothySN9DWUYfPrzzz81pIOBL7BkyRIdAEPM01g8WEw7ICBA9wnxNah7bdu21X3c9AcrHfeIQNwRS9+xY4eGHSH4SEBInTq1not0zP79+2tasQnjJEmSRBMWPEHOPl4DQ+iDDz5wdxJt2rTRjgPjBVOnTtUQKMavcB9K06ZN9RziOyj2XjBv3jy3NYTBqbFjx8qAAQN0Q649yhDHx+AUKjYqMrIZEN/EwBaOwdInxF8gkeDVV19VYwXCjnqLlGJ4nZEjR9aF3+GJop6iHKKOgdSBAwdqFho8ABgtGKANabiggxg3bpzW/3///Vc7FoSDEMasVq2anoOBWrQLZOTgmkj99BwoJs8fir0XIHZp7hYMuSEWiQYEVxgVHi4zKj8s/YwZM2q+cYsWLex3IsQ/QKCR644bqSpUqCAJEyaUxIkT6x3h8Ebfffdd+0xX2AWijGM4DzF/jFXBU61fv76eA4s9WbJkuiH0A+FGpg+ewwNG3j6MIHQWyPJByBMDtUjzxFgXbuYiviWC9YPcRTwPd4jCHSPPBio43FmAXHwzgEseZOLEidK+fXv5559/JE+ePHYp8QUIPQITn38UGKzFubD+nwW0C4xbwXNgm/AN0KFs2bJJ3759NQxHyz6UQUWGu4uNlZqEVSDy/yX0AB7Bswo9QFvA+7BN+A+KPSGEOACKPSGEOACKPSGEOACKPSGEOACKPSGEOACKPSGEOACKPSGEOACKPSGEOACKPSGEOACKPSGEOAD33DiYu8JzkQNCnjdY3QsrI2EirTRp0tilhJDQAIvEYGlIMzeOij2mNsVqMsR3oHN1P96/pOfz55HTk0SQR01dgo+px/TjhvjAT/n5sWTdsePHJGXKVBLVEvwnwv6c3szvQoiTwWSDrVq1com9XUb8AL7+oMBguXMnUO4GuXSTU0U9HEyiFTHA+nasPzxGihTAibUI8RKKfRgiOChYAgODVPzV4Lc2SpmLCBEjSECkiBIQEFGFniJPyJMg8n+wdf5sP0mengAAAABJRU5ErkJggg==)"
      ],
      "metadata": {
        "id": "NhAVE9sSC0Hh"
      }
    },
    {
      "cell_type": "code",
      "source": [
        "import pandas as pd\n",
        "\n",
        "# Example data\n",
        "data = {\n",
        "    \"Age(Years)\": [25, 42, 37, 19, 31, 28],\n",
        "    \"Soft drink Preference\": ['Coke', 'Pepsi', 'Mountain dew', 'Coke', 'Pepsi', 'Coke']\n",
        "}\n",
        "\n",
        "# Create a DataFrame\n",
        "df = pd.DataFrame(data)\n",
        "\n",
        "# Map soft drink preference to numerical values\n",
        "drink_mapping = {'Coke': 0, 'Pepsi': 1, 'Mountain dew': 2}\n",
        "df['Soft drink Preference'] = df['Soft drink Preference'].map(drink_mapping)\n",
        "\n",
        "# Calculate Pearson correlation coefficient\n",
        "corr_coefficient = df['Age(Years)'].corr(df['Soft drink Preference'])\n",
        "\n",
        "print(\"Pearson Correlation Coefficient:\", corr_coefficient)"
      ],
      "metadata": {
        "colab": {
          "base_uri": "https://localhost:8080/"
        },
        "id": "nmG_h3CADRo1",
        "outputId": "f630e5fc-4e4a-4176-841b-e01c147f8b54"
      },
      "execution_count": 5,
      "outputs": [
        {
          "output_type": "stream",
          "name": "stdout",
          "text": [
            "Pearson Correlation Coefficient: 0.7587035441865058\n"
          ]
        }
      ]
    },
    {
      "cell_type": "markdown",
      "source": [
        "Interpretation: The Pearson correlation coefficient measures the linear relationship between age and soft drink preference. The coefficient value can indicate the strength and direction of the relationship (positive or negative).\n",
        "# Q6: Calculate the Pearson correlation coefficient between sales calls and sales."
      ],
      "metadata": {
        "id": "_c9iTuxpDXWy"
      }
    },
    {
      "cell_type": "code",
      "source": [
        "import numpy as np\n",
        "from scipy.stats import pearsonr\n",
        "\n",
        "# Example data\n",
        "sales_calls = [10, 15, 12, 18, 20]\n",
        "sales_made = [3, 6, 4, 8, 9]\n",
        "\n",
        "# Calculate Pearson correlation coefficient and p-value\n",
        "corr_coefficient, p_value = pearsonr(sales_calls, sales_made)\n",
        "\n",
        "print(\"Pearson Correlation Coefficient:\", corr_coefficient)\n",
        "print(\"P-value:\", p_value)"
      ],
      "metadata": {
        "colab": {
          "base_uri": "https://localhost:8080/"
        },
        "id": "zLqZK8pnDvJE",
        "outputId": "cb1690b1-cb33-456d-ba09-d95f96fbe39e"
      },
      "execution_count": 6,
      "outputs": [
        {
          "output_type": "stream",
          "name": "stdout",
          "text": [
            "Pearson Correlation Coefficient: 0.9988681377244376\n",
            "P-value: 4.570360814079366e-05\n"
          ]
        }
      ]
    },
    {
      "cell_type": "code",
      "source": [],
      "metadata": {
        "id": "RSc98PkbDwvD"
      },
      "execution_count": null,
      "outputs": []
    }
  ]
}