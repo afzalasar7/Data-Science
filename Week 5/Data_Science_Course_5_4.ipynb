{
  "nbformat": 4,
  "nbformat_minor": 0,
  "metadata": {
    "colab": {
      "provenance": [],
      "authorship_tag": "ABX9TyOrNETTwpr1GpAdffAXPCz7",
      "include_colab_link": true
    },
    "kernelspec": {
      "name": "python3",
      "display_name": "Python 3"
    },
    "language_info": {
      "name": "python"
    }
  },
  "cells": [
    {
      "cell_type": "markdown",
      "metadata": {
        "id": "view-in-github",
        "colab_type": "text"
      },
      "source": [
        "<a href=\"https://colab.research.google.com/github/afzalasar7/Data-Science/blob/main/Week%205/Data_Science_Course_5_4.ipynb\" target=\"_parent\"><img src=\"https://colab.research.google.com/assets/colab-badge.svg\" alt=\"Open In Colab\"/></a>"
      ]
    },
    {
      "cell_type": "markdown",
      "source": [
        "# Q1. What is multiprocessing in Python? Why is it useful?\n",
        "A1. Multiprocessing in Python refers to the capability of executing multiple processes concurrently. It allows running multiple instances of the Python interpreter, each with its own system resources and memory space.\n",
        "\n",
        "Multiprocessing is useful for improving the performance and efficiency of CPU-bound tasks by utilizing multiple processor cores or CPUs. It enables parallel execution of code, thereby enabling faster execution of computationally intensive tasks.\n",
        "\n",
        "# Q2. What are the differences between multiprocessing and multithreading?\n",
        "A2. The differences between multiprocessing and multithreading are as follows:\n",
        "\n",
        "- Memory and Resources: Each process in multiprocessing has its own memory space and system resources, while threads in multithreading share the same memory space and resources.\n",
        "\n",
        "- CPU Utilization: Multiprocessing is suitable for CPU-bound tasks that require maximum CPU utilization. It can take advantage of multiple processor cores or CPUs by running processes in parallel. On the other hand, multithreading is useful for I/O-bound tasks that involve waiting for external resources. Threads can be used to overlap I/O operations and maximize resource utilization.\n",
        "\n",
        "- Concurrency: Processes in multiprocessing are truly concurrent and can run in parallel, executing different parts of the code simultaneously. Threads in multithreading are concurrent but run within the same process, sharing the same memory space. They can be scheduled to run concurrently, but the Global Interpreter Lock (GIL) in Python restricts true parallel execution of threads.\n",
        "\n",
        "- Communication and Synchronization: Interprocess communication and data sharing in multiprocessing require explicit mechanisms like pipes, queues, or shared memory. In multithreading, data sharing is easier since threads can directly access shared data within the same memory space. However, this also requires proper synchronization mechanisms to avoid race conditions.\n",
        "\n",
        "#Q3. Write a Python code to create a process using the multiprocessing module.\n",
        "A3. Here's an example code to create a process using the multiprocessing module:\n",
        "\n",
        "```python\n",
        "import multiprocessing\n",
        "\n",
        "def my_process():\n",
        "    print(\"This is a child process.\")\n",
        "\n",
        "if __name__ == \"__main__\":\n",
        "    p = multiprocessing.Process(target=my_process)\n",
        "    p.start()\n",
        "    p.join()\n",
        "    print(\"Parent process completed.\")\n",
        "```\n",
        "\n",
        "In this code, a function `my_process` is defined, which will be executed in a separate process. The `multiprocessing.Process` class is used to create a new process, specifying the target function to run (`my_process` in this case). The `start` method starts the process, and the `join` method waits for the process to complete before proceeding with the main process. Finally, a message is printed from the parent process indicating its completion.\n",
        "\n",
        "#Q4. What is a multiprocessing pool in Python? Why is it used?\n",
        "A4. A multiprocessing pool in Python, specifically the `multiprocessing.Pool` class, provides a convenient way to create a pool of worker processes. It allows distributing tasks across multiple processes and manages the execution and communication between the main process and worker processes.\n",
        "\n",
        "The multiprocessing pool is used to parallelize and distribute tasks that can be executed independently. It is particularly useful when dealing with CPU-bound tasks, such as intensive computations, where dividing the work among multiple processes can significantly improve performance.\n",
        "\n",
        "The pool maintains a set of worker processes, and tasks are submitted to the pool, which assigns them to available workers. It automatically manages the allocation of tasks and the retrieval of results from the worker processes.\n",
        "\n",
        "#Q5. How can we create a pool of worker processes in Python using the multiprocessing module?\n",
        "A5. Here's an example of creating a pool of worker processes using the `multiprocessing` module:\n",
        "\n",
        "```python\n",
        "import multiprocessing\n",
        "\n",
        "def square(x):\n",
        "    return x ** 2\n",
        "\n",
        "if __name__ == \"__main__\":\n",
        "    with multiprocessing.Pool(processes=4) as pool:\n",
        "        numbers\n",
        "\n",
        " = [1, 2, 3, 4, 5]\n",
        "        results = pool.map(square, numbers)\n",
        "        print(results)\n",
        "```\n",
        "\n",
        "In this code, a pool of worker processes is created using `multiprocessing.Pool(processes=4)`. The `processes` parameter specifies the number of worker processes to be created (in this case, 4).\n",
        "\n",
        "The `map` method is used to apply the `square` function to each element in the `numbers` list. The `map` method distributes the tasks among the worker processes and returns the results in the same order as the input. Finally, the results are printed.\n",
        "\n",
        "#Q6. Write a Python program to create 4 processes, each process should print a different number using the multiprocessing module in Python.\n",
        "A6. Here's an example code to create 4 processes, each printing a different number:\n",
        "\n",
        "```python\n",
        "import multiprocessing\n",
        "\n",
        "def print_number(number):\n",
        "    print(\"Process\", number, \"prints\", number)\n",
        "\n",
        "if __name__ == \"__main__\":\n",
        "    processes = []\n",
        "\n",
        "    for i in range(1, 5):\n",
        "        p = multiprocessing.Process(target=print_number, args=(i,))\n",
        "        processes.append(p)\n",
        "        p.start()\n",
        "\n",
        "    for p in processes:\n",
        "        p.join()\n",
        "\n",
        "    print(\"All processes completed.\")\n",
        "```\n",
        "\n",
        "In this code, the `print_number` function takes a number as an argument and prints it along with the process number. The `multiprocessing.Process` class is used to create a process for each number, and the `target` argument specifies the function to execute (`print_number` in this case). The `args` argument is used to pass the number to the function.\n",
        "\n",
        "The processes are started using the `start` method, and then the main process waits for each process to finish using the `join` method. Finally, a completion message is printed from the main process."
      ],
      "metadata": {
        "id": "-Jm4ag0VCATO"
      }
    }
  ]
}