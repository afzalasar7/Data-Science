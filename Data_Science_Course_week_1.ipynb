{
  "nbformat": 4,
  "nbformat_minor": 0,
  "metadata": {
    "colab": {
      "provenance": [],
      "authorship_tag": "ABX9TyNPHIVvWBoG7O0NWSmXXoxt",
      "include_colab_link": true
    },
    "kernelspec": {
      "name": "python3",
      "display_name": "Python 3"
    },
    "language_info": {
      "name": "python"
    }
  },
  "cells": [
    {
      "cell_type": "markdown",
      "metadata": {
        "id": "view-in-github",
        "colab_type": "text"
      },
      "source": [
        "<a href=\"https://colab.research.google.com/github/afzalasar7/Data-Science/blob/main/Data_Science_Course_week_1.ipynb\" target=\"_parent\"><img src=\"https://colab.research.google.com/assets/colab-badge.svg\" alt=\"Open In Colab\"/></a>"
      ]
    },
    {
      "cell_type": "markdown",
      "source": [
        "## 1. Create one variable containing following type of date:\n",
        "(i) name = \"Afzal\"\n",
        "(ii) list = [1,2,3,'name']\n",
        "(iii) tuple = (1,2,3)\n",
        "(iv) float = 3.14"
      ],
      "metadata": {
        "id": "aXFq3twwVASv"
      }
    },
    {
      "cell_type": "markdown",
      "source": [
        "## 2. Given are some folowing variables contalning data:\n",
        "(i) varl =''\n",
        "(ii) var2 =‘[ DS, ML, Python]’\n",
        "(iii) var3 = [ ‘DS’, 'ML’ , ‘Python’ ]\n",
        "(iv) var4 =1.\n",
        "\n",
        "\n",
        "\n",
        "What wil be the datatype of the cove given variable.\n",
        "(i) string\n",
        "(ii) string\n",
        "(iii) list\n",
        "(iv) integer\n"
      ],
      "metadata": {
        "id": "XVzKK4DaZdOW"
      }
    },
    {
      "cell_type": "markdown",
      "source": [
        "\n",
        "## 3. Explain the use ofthe following operators using an example\n",
        "(i) / - Divide operator: 10/2 = 5\n",
        "(ii) % - modulo operator: 11%2 = 1\n",
        "(iii) // - Floor opeerator: 10//3 = 3\n",
        "(iv) ** Exponent operator: 2**3 = 8 "
      ],
      "metadata": {
        "id": "uTjcnnGubBKR"
      }
    },
    {
      "cell_type": "markdown",
      "source": [
        "## 4. Create a list of length 10 of your choice containing multiple types of data. Using for loop print the element and its data type."
      ],
      "metadata": {
        "id": "sjblr3wUZqwS"
      }
    },
    {
      "cell_type": "code",
      "execution_count": null,
      "metadata": {
        "colab": {
          "base_uri": "https://localhost:8080/"
        },
        "id": "9_wZDg7zU3Ct",
        "outputId": "f6ce3168-2d48-4f1a-b919-75be80989728"
      },
      "outputs": [
        {
          "output_type": "stream",
          "name": "stdout",
          "text": [
            "1\n",
            "2\n",
            "3\n",
            "(1, 3, 5)\n",
            "name\n",
            "afzal\n",
            "asar\n",
            "{'fruit': ['apple', 'cherry', 'tomato']}\n",
            "{8, 1, 5}\n",
            "[1, 2, 3, 4]\n"
          ]
        }
      ],
      "source": [
        "\n",
        "list1 = [1,2,3,(1,3,5), \"name\", \"afzal\", 'asar', {\"fruit\":['apple', 'cherry', 'tomato']}, {1,5,8}, [1,2,3,4]]\n",
        "for i in list1:\n",
        "  print(i)"
      ]
    },
    {
      "cell_type": "markdown",
      "source": [
        "## Q5. Using a while loop, verify if the number A is purely divisible by number B and if so then how many times it can be divisible."
      ],
      "metadata": {
        "id": "25wMd8KdaGtK"
      }
    },
    {
      "cell_type": "code",
      "source": [
        "\n",
        "A = 10\n",
        "B = 2\n",
        "count = 0\n",
        "if A%B == 0:\n",
        "  while count == 0:\n",
        "    count = A/B\n",
        "  print(f\"{A} is purely divisible by number {B} and {A} is {count} times divisible by {B}.\")\n",
        "else:\n",
        "  print(f\"{A} is purely divisible by number {B}\")\n"
      ],
      "metadata": {
        "colab": {
          "base_uri": "https://localhost:8080/"
        },
        "id": "SoZevqqOZ6d8",
        "outputId": "c765b1e9-eca4-4330-b87e-0d37d770c24a"
      },
      "execution_count": null,
      "outputs": [
        {
          "output_type": "stream",
          "name": "stdout",
          "text": [
            "10 is purely divisible by number 2 and 10 is 5.0 times divisible by 2.\n"
          ]
        }
      ]
    },
    {
      "cell_type": "markdown",
      "source": [
        "## Q6. Create a list containing 25 int type data. Using for loop and if-else condition print if the element isdivisible by 3 or not."
      ],
      "metadata": {
        "id": "ogu7VrMRaPyk"
      }
    },
    {
      "cell_type": "code",
      "source": [
        "list1= []\n",
        "for i in range(1, 26):\n",
        "  list1.append(i)\n",
        "\n",
        "for num in list1:\n",
        "  if num % 3 == 0:\n",
        "    print(f\"{num} is divisible by 3\")\n",
        "  else: print(f\"{num} is not divisible by 3\")"
      ],
      "metadata": {
        "colab": {
          "base_uri": "https://localhost:8080/"
        },
        "id": "tkM1vMxKdL1V",
        "outputId": "cf00d073-0395-4492-9aaa-6a509c8559ea"
      },
      "execution_count": null,
      "outputs": [
        {
          "output_type": "stream",
          "name": "stdout",
          "text": [
            "1 is not divisible by 3\n",
            "2 is not divisible by 3\n",
            "3 is divisible by 3\n",
            "4 is not divisible by 3\n",
            "5 is not divisible by 3\n",
            "6 is divisible by 3\n",
            "7 is not divisible by 3\n",
            "8 is not divisible by 3\n",
            "9 is divisible by 3\n",
            "10 is not divisible by 3\n",
            "11 is not divisible by 3\n",
            "12 is divisible by 3\n",
            "13 is not divisible by 3\n",
            "14 is not divisible by 3\n",
            "15 is divisible by 3\n",
            "16 is not divisible by 3\n",
            "17 is not divisible by 3\n",
            "18 is divisible by 3\n",
            "19 is not divisible by 3\n",
            "20 is not divisible by 3\n",
            "21 is divisible by 3\n",
            "22 is not divisible by 3\n",
            "23 is not divisible by 3\n",
            "24 is divisible by 3\n",
            "25 is not divisible by 3\n"
          ]
        }
      ]
    },
    {
      "cell_type": "markdown",
      "source": [
        "## Q7. What do you understand about mutable and immutable data types? Give examples for both showing this property "
      ],
      "metadata": {
        "id": "pe5_MidwaXQ6"
      }
    },
    {
      "cell_type": "code",
      "source": [
        "# Mutable object can be changed after it is created. These are of type list, dict, set . Custom classes are generally mutable.\n",
        "color = [\"red\", \"blue\", \"green\"]\n",
        "print(color)\n",
        "  \n",
        "color[0] = \"pink\"\n",
        "color[-1] = \"orange\"\n",
        "print(color)"
      ],
      "metadata": {
        "colab": {
          "base_uri": "https://localhost:8080/"
        },
        "id": "oRnTJZx5d5ok",
        "outputId": "665badb1-dda4-42d1-e81a-6773cd9cbbe4"
      },
      "execution_count": 3,
      "outputs": [
        {
          "output_type": "stream",
          "name": "stdout",
          "text": [
            "['red', 'blue', 'green']\n",
            "['pink', 'blue', 'orange']\n"
          ]
        }
      ]
    },
    {
      "cell_type": "code",
      "source": [
        "\n",
        " #Immutable Objects : These are of in-built types like int, float, bool, string, unicode, tuple. In simple words, an immutable object can’t be changed after it is created.\n",
        "tuple1 = (0, 1, 2, 3) \n",
        "tuple1[0] = 4\n",
        "print(tuple1)"
      ],
      "metadata": {
        "colab": {
          "base_uri": "https://localhost:8080/",
          "height": 217
        },
        "id": "ZaAcjOR_a1ZV",
        "outputId": "b624a82a-fe00-4824-f6ad-55ff36585481"
      },
      "execution_count": 4,
      "outputs": [
        {
          "output_type": "error",
          "ename": "TypeError",
          "evalue": "ignored",
          "traceback": [
            "\u001b[0;31m---------------------------------------------------------------------------\u001b[0m",
            "\u001b[0;31mTypeError\u001b[0m                                 Traceback (most recent call last)",
            "\u001b[0;32m<ipython-input-4-b60534d3b115>\u001b[0m in \u001b[0;36m<cell line: 3>\u001b[0;34m()\u001b[0m\n\u001b[1;32m      1\u001b[0m \u001b[0;31m#Immutable Objects : These are of in-built types like int, float, bool, string, unicode, tuple. In simple words, an immutable object can’t be changed after it is created.\u001b[0m\u001b[0;34m\u001b[0m\u001b[0;34m\u001b[0m\u001b[0m\n\u001b[1;32m      2\u001b[0m \u001b[0mtuple1\u001b[0m \u001b[0;34m=\u001b[0m \u001b[0;34m(\u001b[0m\u001b[0;36m0\u001b[0m\u001b[0;34m,\u001b[0m \u001b[0;36m1\u001b[0m\u001b[0;34m,\u001b[0m \u001b[0;36m2\u001b[0m\u001b[0;34m,\u001b[0m \u001b[0;36m3\u001b[0m\u001b[0;34m)\u001b[0m\u001b[0;34m\u001b[0m\u001b[0;34m\u001b[0m\u001b[0m\n\u001b[0;32m----> 3\u001b[0;31m \u001b[0mtuple1\u001b[0m\u001b[0;34m[\u001b[0m\u001b[0;36m0\u001b[0m\u001b[0;34m]\u001b[0m \u001b[0;34m=\u001b[0m \u001b[0;36m4\u001b[0m\u001b[0;34m\u001b[0m\u001b[0;34m\u001b[0m\u001b[0m\n\u001b[0m\u001b[1;32m      4\u001b[0m \u001b[0mprint\u001b[0m\u001b[0;34m(\u001b[0m\u001b[0mtuple1\u001b[0m\u001b[0;34m)\u001b[0m\u001b[0;34m\u001b[0m\u001b[0;34m\u001b[0m\u001b[0m\n",
            "\u001b[0;31mTypeError\u001b[0m: 'tuple' object does not support item assignment"
          ]
        }
      ]
    }
  ]
}