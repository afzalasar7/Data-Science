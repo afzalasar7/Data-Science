{
  "nbformat": 4,
  "nbformat_minor": 0,
  "metadata": {
    "colab": {
      "provenance": [],
      "authorship_tag": "ABX9TyNB8GbHJYFT2WgI2y/2lkHo",
      "include_colab_link": true
    },
    "kernelspec": {
      "name": "python3",
      "display_name": "Python 3"
    },
    "language_info": {
      "name": "python"
    }
  },
  "cells": [
    {
      "cell_type": "markdown",
      "metadata": {
        "id": "view-in-github",
        "colab_type": "text"
      },
      "source": [
        "<a href=\"https://colab.research.google.com/github/afzalasar7/Data-Science/blob/main/Week%2010%20STATISTICS/STATISTICS_BASICS_2.ipynb\" target=\"_parent\"><img src=\"https://colab.research.google.com/assets/colab-badge.svg\" alt=\"Open In Colab\"/></a>"
      ]
    },
    {
      "cell_type": "markdown",
      "source": [
        "# Q1. What are the three measures of central tendency?\n",
        "Three measures of central tendency are:\n",
        "1. Mean\n",
        "2. Median\n",
        "3. Mode\n",
        "\n",
        "# Q2. What is the difference between the mean, median, and mode? How are they used to measure the central tendency of a dataset?\n",
        "- **Mean:** It is the average of all values in a dataset. Calculated by summing up all values and dividing by the number of values.\n",
        "- **Median:** It is the middle value when the data is arranged in ascending or descending order. If there's an even number of values, the median is the average of the middle two values.\n",
        "- **Mode:** It is the value that appears most frequently in the dataset.\n",
        "\n",
        "These measures help in understanding where most values cluster in a dataset, providing a sense of its central location.\n",
        "\n",
        "# Q3. Measure the three measures of central tendency for the given height data: [178,177,176,177,178.2,178,175,179,180,175,178.9,176.2,177,172.5,178,176.5]\n",
        "- Mean: 177.54375\n",
        "- Median: 177.5\n",
        "- Mode: 177\n",
        "\n",
        "# Q4. Find the standard deviation for the given data: [178,177,176,177,178.2,178,175,179,180,175,178.9,176.2,177,172.5,178,176.5]\n",
        "Standard Deviation: 1.831308387\n",
        "\n",
        "# Q5. How are measures of dispersion such as range, variance, and standard deviation used to describe the spread of a dataset? Provide an example.\n",
        "- **Range:** It's the difference between the maximum and minimum values, indicating the extent of variation.\n",
        "- **Variance:** It quantifies the average of squared differences from the mean, representing how data points deviate from the mean.\n",
        "- **Standard Deviation:** It's the square root of variance and provides a more interpretable measure of spread.\n",
        "\n",
        "Example: For two datasets with the same mean, the one with a smaller standard deviation is less spread out, while a larger standard deviation indicates more dispersion.\n",
        "\n",
        "# Q6. What is a Venn diagram?\n",
        "A Venn diagram is a graphical representation that uses circles (or other shapes) to show the relationships between different sets. Overlapping regions indicate elements shared between sets, while non-overlapping areas show elements unique to each set.\n",
        "\n",
        "# Q7. For the two given sets A = (2,3,4,5,6,7) & B = (0,2,6,8,10). Find:\n",
        "(i) A ∩ B (Intersection of A and B): Result = (2,6)\n",
        "(ii) A ⋃ B (Union of A and B): Result = (0,2,3,4,5,6,7,8,10)\n",
        "\n",
        "# Q8. What do you understand about skewness in data?\n",
        "Skewness in data refers to the asymmetry of the probability distribution. If the data distribution is skewed, it means the data points are not evenly distributed around the mean. Positive skewness (right-skewed) indicates a longer tail on the right side, while negative skewness (left-skewed) has a longer tail on the left side.\n",
        "\n",
        "# Q9. If a data is right skewed then what will be the position of median with respect to mean?\n",
        "In a right-skewed distribution, the median will be less than the mean. This is because the longer tail on the right side (higher values) pulls the mean in that direction, making it greater than the median.\n",
        "\n",
        "# Q10. Explain the difference between covariance and correlation. How are these measures used in statistical analysis?\n",
        "- **Covariance:** Measures how two variables change together. Positive covariance implies they increase together, negative covariance implies one increases as the other decreases, and zero covariance suggests no consistent relationship.\n",
        "- **Correlation:** Scales covariance by the standard deviations of the variables, resulting in correlation coefficient. It ranges from -1 (perfect negative correlation) to 1 (perfect positive correlation), with 0 implying no linear correlation.\n",
        "\n",
        "These measures help in understanding the relationship between two variables and are used in regression analysis and data exploration.\n",
        "\n",
        "# Q11. What is the formula for calculating the sample mean? Provide an example calculation for a dataset.\n",
        "Sample Mean Formula: Sum of all values / Number of values\n",
        "\n",
        "Example: Dataset = [10, 15, 20, 25, 30]\n",
        "Mean = (10 + 15 + 20 + 25 + 30) / 5 = 20\n",
        "\n",
        "# Q12. For a normal distribution data what is the relationship between its measure of central tendency?\n",
        "In a normal distribution, the mean, median, and mode are all equal and located at the center of the distribution. This is why the normal distribution is often used as a standard for comparison in statistical analysis.\n",
        "\n",
        "# Q13. How is covariance different from correlation?\n",
        "Covariance measures the direction of the linear relationship between two variables (positive or negative), but it doesn't provide a standardized measure of the strength of the relationship. Correlation, on the other hand, not only measures the direction but also the strength, as it's scaled by the standard deviations of the variables.\n",
        "\n",
        "# Q14. How do outliers affect measures of central tendency and dispersion? Provide an example.\n",
        "Outliers, being extreme values, can significantly affect measures of central tendency like the mean, pulling it towards their direction. However, the median is less affected since it's less sensitive to extreme values. Outliers can also increase the dispersion measures like range, variance, and standard deviation.\n",
        "\n",
        "Example: If a dataset of income has a few extremely high salaries, the mean income would be inflated by these outliers, while the median income would remain relatively unaffected. Similarly, the range, variance, and standard deviation would be higher due to the presence of outliers."
      ],
      "metadata": {
        "id": "vsE3fd2JhlGS"
      }
    }
  ]
}