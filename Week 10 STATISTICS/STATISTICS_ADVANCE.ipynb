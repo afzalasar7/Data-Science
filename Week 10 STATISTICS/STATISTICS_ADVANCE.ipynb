{
  "nbformat": 4,
  "nbformat_minor": 0,
  "metadata": {
    "colab": {
      "provenance": [],
      "authorship_tag": "ABX9TyPygbj6Wc2vaD7x6uC+6cQ4",
      "include_colab_link": true
    },
    "kernelspec": {
      "name": "python3",
      "display_name": "Python 3"
    },
    "language_info": {
      "name": "python"
    }
  },
  "cells": [
    {
      "cell_type": "markdown",
      "metadata": {
        "id": "view-in-github",
        "colab_type": "text"
      },
      "source": [
        "<a href=\"https://colab.research.google.com/github/afzalasar7/Data-Science/blob/main/Week%2010%20STATISTICS/STATISTICS_ADVANCE.ipynb\" target=\"_parent\"><img src=\"https://colab.research.google.com/assets/colab-badge.svg\" alt=\"Open In Colab\"/></a>"
      ]
    },
    {
      "cell_type": "markdown",
      "source": [
        "# Q1. What is the Probability density function?\n",
        "The **Probability Density Function (PDF)** is a statistical concept used in continuous probability distributions. It describes the likelihood of a random variable taking on a specific value within a continuous range. Unlike discrete probability distributions, where individual values have specific probabilities, the PDF for continuous distributions provides the probability within an infinitesimally small interval around a given point.\n",
        "\n",
        "# Q2. What are the types of Probability distribution?\n",
        "There are several types of probability distributions:\n",
        "1. **Normal Distribution:** Symmetric bell-shaped curve, often seen in natural phenomena.\n",
        "2. **Binomial Distribution:** Models the number of successes in a fixed number of independent Bernoulli trials.\n",
        "3. **Poisson Distribution:** Models the number of events in a fixed interval of time or space.\n",
        "4. **Exponential Distribution:** Describes the time between events in a Poisson process.\n",
        "5. **Uniform Distribution:** All values within a range are equally likely.\n",
        "6. **Gamma Distribution:** Generalizes the exponential distribution.\n",
        "7. **Chi-Square Distribution:** Arises in the context of hypothesis testing and confidence intervals.\n",
        "8. **Student's t-Distribution:** Used for small sample sizes in hypothesis testing.\n",
        "9. **F-Distribution:** Often used in ANOVA and regression analysis.\n",
        "\n",
        "# Q3. Write a Python function to calculate the probability density function of a normal distribution with given mean and standard deviation at a given point.\n"
      ],
      "metadata": {
        "id": "vsE3fd2JhlGS"
      }
    },
    {
      "cell_type": "code",
      "source": [
        "import math\n",
        "\n",
        "def normal_pdf(x, mean, std_dev):\n",
        "    exponent = -((x - mean)**2) / (2 * std_dev**2)\n",
        "    return (1 / (std_dev * math.sqrt(2 * math.pi))) * math.exp(exponent)"
      ],
      "metadata": {
        "id": "2plmF_JZ4CjN"
      },
      "execution_count": 1,
      "outputs": []
    },
    {
      "cell_type": "markdown",
      "source": [
        "\n",
        "# Q4. What are the properties of Binomial distribution? Give two examples of events where binomial distribution can be applied.\n",
        "Properties of the Binomial Distribution:\n",
        "- It models a fixed number of independent trials, each with two possible outcomes (success or failure).\n",
        "- The probability of success remains constant for each trial.\n",
        "- Trials are independent of each other.\n",
        "- The distribution is discrete.\n",
        "\n",
        "Examples:\n",
        "1. Flipping a coin (heads or tails) a fixed number of times.\n",
        "2. Testing a sample of products for defects, where each product is either defective or not.\n",
        "\n",
        "# Q5. Generate a random sample of size 1000 from a binomial distribution with a probability of success 0.4 and plot a histogram of the results using matplotlib."
      ],
      "metadata": {
        "id": "iRHsHJhu4QB0"
      }
    },
    {
      "cell_type": "code",
      "source": [
        "\n",
        "import numpy as np\n",
        "import matplotlib.pyplot as plt\n",
        "\n",
        "sample_size = 1000\n",
        "p_success = 0.4\n",
        "random_sample = np.random.binomial(1, p_success, sample_size)\n",
        "\n",
        "plt.hist(random_sample, bins=2, edgecolor='black')\n",
        "plt.xlabel('Success (1) / Failure (0)')\n",
        "plt.ylabel('Frequency')\n",
        "plt.title('Binomial Distribution Random Sample')\n",
        "plt.show()"
      ],
      "metadata": {
        "colab": {
          "base_uri": "https://localhost:8080/",
          "height": 472
        },
        "id": "R6XIV5RX4ah4",
        "outputId": "542c6c09-6bd7-494d-fdb2-18103532649b"
      },
      "execution_count": 3,
      "outputs": [
        {
          "output_type": "display_data",
          "data": {
            "text/plain": [
              "<Figure size 640x480 with 1 Axes>"
            ],
            "image/png": "[encoded data removed]"
          },
          "metadata": {}
        }
      ]
    },
    {
      "cell_type": "markdown",
      "source": [
        "\n",
        "# Q6. Write a Python function to calculate the cumulative distribution function of a Poisson distribution with a given mean at a given point.\n",
        "```python\n",
        "import math\n",
        "\n",
        "def poisson_cdf(x, mean):\n",
        "    cdf = 0\n",
        "    for i in range(x + 1):\n",
        "        cdf += (math.exp(-mean) * mean**i) / math.factorial(i)\n",
        "    return cdf\n",
        "```\n",
        "\n",
        "# Q7. How is Binomial distribution different from Poisson distribution?\n",
        "- **Binomial Distribution:** Models a fixed number of trials with two outcomes, success or failure. Probability of success remains constant, and trials are independent.\n",
        "- **Poisson Distribution:** Models the number of events in a fixed interval of time or space. The probability of an event occurring is small and constant, and events are independent.\n",
        "\n",
        "# Q8. Generate a random sample of size 1000 from a Poisson distribution with mean 5 and calculate the sample mean and variance.\n"
      ],
      "metadata": {
        "id": "nvpf0pB-4Wwy"
      }
    },
    {
      "cell_type": "code",
      "source": [
        "import numpy as np\n",
        "\n",
        "sample_size = 1000\n",
        "mean = 5\n",
        "random_sample = np.random.poisson(mean, sample_size)\n",
        "sample_mean = np.mean(random_sample)\n",
        "sample_variance = np.var(random_sample)\n",
        "\n",
        "print(\"Sample Mean:\", sample_mean)\n",
        "print(\"Sample Variance:\", sample_variance)\n"
      ],
      "metadata": {
        "colab": {
          "base_uri": "https://localhost:8080/"
        },
        "id": "j1DSCH8k4mE8",
        "outputId": "b1ae4069-372e-4174-cdc6-8e3502717cfe"
      },
      "execution_count": 4,
      "outputs": [
        {
          "output_type": "stream",
          "name": "stdout",
          "text": [
            "Sample Mean: 4.947\n",
            "Sample Variance: 4.600191\n"
          ]
        }
      ]
    },
    {
      "cell_type": "markdown",
      "source": [
        "\n",
        "\n",
        "# Q9. How are mean and variance related in Binomial distribution and Poisson distribution?\n",
        "In a **Binomial Distribution**: Mean = n * p, Variance = n * p * (1 - p), where n is the number of trials and p is the probability of success.\n",
        "\n",
        "In a **Poisson Distribution**: Mean = Variance.\n",
        "\n",
        "# Q10. In normal distribution with respect to mean position, where does the least frequent data appear?\n",
        "In a normal distribution, the least frequent data appears in the tails, farther away from the mean. The data becomes increasingly rare as you move towards the extremes (both positive and negative) of the distribution."
      ],
      "metadata": {
        "id": "ejgVOOK34oAn"
      }
    }
  ]
}