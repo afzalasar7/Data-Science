{
  "nbformat": 4,
  "nbformat_minor": 0,
  "metadata": {
    "colab": {
      "provenance": [],
      "authorship_tag": "ABX9TyPhxH5CSWaFXnzAV+I2aX7C",
      "include_colab_link": true
    },
    "kernelspec": {
      "name": "python3",
      "display_name": "Python 3"
    },
    "language_info": {
      "name": "python"
    }
  },
  "cells": [
    {
      "cell_type": "markdown",
      "metadata": {
        "id": "view-in-github",
        "colab_type": "text"
      },
      "source": [
        "<a href=\"https://colab.research.google.com/github/afzalasar7/Data-Science/blob/main/Week%2010%20STATISTICS/STATISTICS_ADVANCED_6.ipynb\" target=\"_parent\"><img src=\"https://colab.research.google.com/assets/colab-badge.svg\" alt=\"Open In Colab\"/></a>"
      ]
    },
    {
      "cell_type": "markdown",
      "source": [
        "# Q1. Explain the assumptions required to use ANOVA and provide examples of violations that could impact the validity of the results.\n",
        "\n",
        "**Answer:**\n",
        "Assumptions of ANOVA:\n",
        "1. **Independence:** Observations within groups should be independent of each other.\n",
        "2. **Normality:** The residuals (errors) of each group should follow a normal distribution.\n",
        "3. **Homogeneity of Variance:** The variances of the groups should be roughly equal.\n",
        "4. **Random Sampling:** Observations are randomly sampled from each group.\n",
        "   \n",
        "Example violations and impacts:\n",
        "- **Independence Violation:** If observations within groups are not independent (e.g., repeated measures), it may lead to correlated errors and incorrect p-values.\n",
        "- **Normality Violation:** If residuals aren't normally distributed, the p-values and confidence intervals may be inaccurate.\n",
        "- **Homogeneity of Variance Violation:** Unequal variances can lead to incorrect p-values and confidence intervals.\n",
        "- **Random Sampling Violation:** Non-random sampling can introduce bias and affect the generalizability of results.\n",
        "\n",
        "# Q2. What are the three types of ANOVA, and in what situations would each be used?\n",
        "\n",
        "**Answer:**\n",
        "1. **One-Way ANOVA:** Compares means of three or more groups to determine if at least one group is significantly different.\n",
        "2. **Two-Way ANOVA:** Examines the effects of two independent categorical variables (factors) on a dependent variable.\n",
        "3. **Repeated Measures ANOVA:** Compares means of related groups (within-subjects design) when the same subjects are measured multiple times.\n",
        "\n",
        "# Q3. What is the partitioning of variance in ANOVA, and why is it important to understand this concept?\n",
        "\n",
        "**Answer:**\n",
        "The partitioning of variance in ANOVA divides the total variability in the data into components attributed to different sources (e.g., groups, error). Understanding this helps identify the sources of variation affecting the dependent variable and assess the contribution of each source to overall variability.\n",
        "\n",
        "# Q4. How would you calculate the total sum of squares (SST), explained sum of squares (SSE), and residual sum of squares (SSR) in a one-way ANOVA using Python?\n",
        "\n",
        "**Answer:**\n",
        "Here's how to calculate them using Python:\n",
        "\n",
        "```python\n",
        "# SST (Total Sum of Squares)\n",
        "total_mean = np.mean(data)\n",
        "sst = np.sum((data - total_mean) ** 2)\n",
        "\n",
        "# SSE (Explained Sum of Squares)\n",
        "group_means = [np.mean(group) for group in groups]\n",
        "sse = np.sum([(group_mean - total_mean) ** 2 * len(group) for group_mean, group in zip(group_means, groups)])\n",
        "\n",
        "# SSR (Residual Sum of Squares)\n",
        "ssr = sst - sse\n",
        "```\n",
        "\n",
        "# Q5. In a two-way ANOVA, how would you calculate the main effects and interaction effects using Python?\n",
        "\n",
        "**Answer:**\n",
        "In a two-way ANOVA, you can calculate the main effects and interaction effects as follows:\n",
        "\n",
        "```python\n",
        "# Calculate main effects\n",
        "main_effect_1 = np.mean(data_group1) - grand_mean\n",
        "main_effect_2 = np.mean(data_group2) - grand_mean\n",
        "\n",
        "# Calculate interaction effect\n",
        "interaction_effect = grand_mean - (main_effect_1 + main_effect_2)\n",
        "```\n",
        "\n",
        "# Q6. Suppose you conducted a one-way ANOVA and obtained an F-statistic of 5.23 and a p-value of 0.02. What can you conclude about the differences between the groups, and how would you interpret these results?\n",
        "\n",
        "**Answer:**\n",
        "With an F-statistic of 5.23 and a p-value of 0.02, you can conclude that there are statistically significant differences between at least two groups' means. The p-value indicates that the probability of observing such differences by chance is only 2%, which is below the typical significance level of 5%. Therefore, you would reject the null hypothesis and conclude that there are significant differences between the groups.\n",
        "\n",
        "# Q7. In a repeated measures ANOVA, how would you handle missing data, and what are the potential consequences of using different methods to handle missing data?\n",
        "\n",
        "**Answer:**\n",
        "Handling missing data in repeated measures ANOVA depends on the nature of the missingness. Methods include listwise deletion (removing subjects with missing data), imputation (replacing missing values), or using mixed-effects models. Consequences of handling missing data inconsistently may include biased results, reduced power, or incorrect conclusions.\n",
        "\n",
        "# Q8. What are some common post-hoc tests used after ANOVA, and when would you use each one? Provide an example of a situation where a post-hoc test might be necessary.\n",
        "\n",
        "**Answer:**\n",
        "Common post-hoc tests include Tukey's HSD, Bonferroni correction, and Scheffe's test. They're used to determine which groups significantly differ after rejecting the null hypothesis in ANOVA. For example, if ANOVA reveals a significant difference in mean exam scores among different teaching methods, a post-hoc test can identify which pairs of methods have significantly different scores.\n",
        "\n",
        "# Q9. A researcher wants to compare the mean weight loss of three diets: A, B, and C. They collect data from 50 participants who were randomly assigned to one of the diets. Conduct a one-way ANOVA using Python to determine if there are any significant differences between the mean weight loss of the three diets. Report the F-statistic and p-value, and interpret the results.\n",
        "\n",
        "**Answer:**\n",
        "\n",
        "Interpretation: If the p-value is less than the significance level (0.05), we reject the null hypothesis and conclude that there are significant differences between the mean weight loss of the three diets.\n",
        "\n"
      ],
      "metadata": {
        "id": "rv51FtMblmIB"
      }
    },
    {
      "cell_type": "code",
      "source": [
        "import scipy.stats as stats\n",
        "\n",
        "# Example weight loss data for three diets\n",
        "diet_A = [2.1, 1.8, 1.5, 2.3, 1.7, 1.9, 2.0, 1.6, 1.4, 2.2]\n",
        "diet_B = [1.2, 1.4, 1.0, 1.5, 1.3, 1.6, 1.7, 1.2, 1.8, 1.1]\n",
        "diet_C = [0.8, 1.0, 0.9, 1.2, 0.7, 1.1, 1.3, 1.0, 1.2, 1.4]\n",
        "\n",
        "# Perform one-way ANOVA\n",
        "f_statistic, p_value = stats.f_oneway(diet_A, diet_B, diet_C)\n",
        "print(f\"F-statistic: {f_statistic:.2f}\")\n",
        "print(f\"P-value: {p_value}\")\n",
        "\n",
        "alpha = 0.05\n",
        "if p_value < alpha:\n",
        "    result = \"Reject the null hypothesis\"\n",
        "else:\n",
        "    result = \"Fail to reject the null hypothesis\"\n",
        "\n",
        "print(result)\n"
      ],
      "metadata": {
        "colab": {
          "base_uri": "https://localhost:8080/"
        },
        "id": "3eMERXHTl2sH",
        "outputId": "87155cdd-4e81-4b54-e855-ccf771245c9d"
      },
      "execution_count": null,
      "outputs": [
        {
          "output_type": "stream",
          "name": "stdout",
          "text": [
            "F-statistic: 22.38\n",
            "P-value: 1.8581262146029922e-06\n",
            "Reject the null hypothesis\n"
          ]
        }
      ]
    },
    {
      "cell_type": "markdown",
      "source": [
        "# Q10. A company wants to know if there are any significant differences in the average time it takes to complete a task using three different software programs: Program A, Program B, and Program C. They randomly assign 30 employees to one of the programs and record the time it takes each employee to complete the task. Conduct a two-way ANOVA using Python to determine if there are any main effects or interaction effects between the software programs and employee experience level (novice vs. experienced). Report the F-statistics and p-values, and interpret the results.\n",
        "\n",
        "**Answer:**\n",
        "Interpretation: Examine the p-values in the ANOVA table. If any p-value is less than the significance level (e.g., 0.05), it indicates a significant main effect or interaction effect. This helps determine if software programs, experience levels, or their combination significantly influence task completion time.\n"
      ],
      "metadata": {
        "id": "6z9snjwGl93Z"
      }
    },
    {
      "cell_type": "code",
      "source": [
        "import pandas as pd\n",
        "import statsmodels.api as sm\n",
        "from statsmodels.formula.api import ols\n",
        "\n",
        "# Example time values for three software programs and two experience levels\n",
        "time_values = [14, 16, 18, 12, 15, 20, 10, 11, 13, 9, 10, 12, 8, 10, 13, 18, 22, 20, 25, 23, 28, 24, 21, 19, 23, 25, 28, 26, 27, 30, 24, 26, 28, 22, 24, 26]\n",
        "\n",
        "# Create a DataFrame with columns: Software, Experience, Time\n",
        "data = pd.DataFrame({\n",
        "    'Software': ['A', 'B', 'C'] * 12,  # 3 programs, each repeated 12 times\n",
        "    'Experience': ['Novice', 'Experienced'] * 18,  # 2 experience levels, each repeated 18 times\n",
        "    'Time': time_values\n",
        "})\n",
        "\n",
        "model = ols('Time ~ Software * Experience', data=data).fit()\n",
        "anova_table = sm.stats.anova_lm(model, typ=2)\n",
        "\n",
        "print(anova_table)\n",
        "\n"
      ],
      "metadata": {
        "colab": {
          "base_uri": "https://localhost:8080/"
        },
        "id": "BqnOakCkoI3E",
        "outputId": "159a346b-9d04-40bb-8108-3f3affb557a6"
      },
      "execution_count": null,
      "outputs": [
        {
          "output_type": "stream",
          "name": "stdout",
          "text": [
            "                          sum_sq    df         F    PR(>F)\n",
            "Software               68.055556   2.0  0.707275  0.501021\n",
            "Experience              0.111111   1.0  0.002309  0.961989\n",
            "Software:Experience     9.388889   2.0  0.097575  0.907321\n",
            "Residual             1443.333333  30.0       NaN       NaN\n"
          ]
        }
      ]
    },
    {
      "cell_type": "markdown",
      "source": [
        "\n",
        "# Q11. An educational researcher is interested in whether a new teaching method improves student test scores. They randomly assign 100 students to either the control group (traditional teaching method) or the experimental group (new teaching method) and administer a test at the end of the semester. Conduct a two-sample t-test using Python to determine if there are any significant differences in test scores between the two groups. If the results are significant, follow up with a post-hoc test to determine which group(s) differ significantly from each other.\n",
        "\n",
        "**Answer:**\n",
        "\n",
        "Interpretation: If the p-value is less than the significance level, you reject the null hypothesis and conclude that there's a significant difference in test scores between the groups. If the post-hoc test is significant, it helps identify which specific groups differ significantly from each other.\n",
        "\n",
        "."
      ],
      "metadata": {
        "id": "YGo24Z4nmGYT"
      }
    },
    {
      "cell_type": "code",
      "source": [
        "import scipy.stats as stats\n",
        "import numpy as np\n",
        "from statsmodels.stats.multicomp import pairwise_tukeyhsd\n",
        "\n",
        "# Example test scores for control and experimental groups\n",
        "control_group = [85, 88, 92, 78, 83, 90, 82, 89, 86, 95]\n",
        "experimental_group = [77, 79, 81, 76, 80, 85, 75, 84, 78, 83]\n",
        "\n",
        "t_statistic, p_value = stats.ttest_ind(control_group, experimental_group)\n",
        "\n",
        "print(f\"T-statistic: {t_statistic:.2f}\")\n",
        "print(f\"P-value: {p_value:.4f}\")\n",
        "\n",
        "alpha = 0.05\n",
        "if p_value < alpha:\n",
        "    result = \"Reject the null hypothesis\"\n",
        "    # Perform post-hoc test (e.g., Tukey's HSD)\n",
        "    posthoc_results = pairwise_tukeyhsd(np.concatenate([control_group, experimental_group]), np.concatenate([[0] * len(control_group), [1] * len(experimental_group)]))\n",
        "    print(posthoc_results)\n",
        "else:\n",
        "    result = \"Fail to reject the null hypothesis\"\n",
        "\n",
        "print(result)\n"
      ],
      "metadata": {
        "colab": {
          "base_uri": "https://localhost:8080/"
        },
        "id": "mj3YehAcp7dZ",
        "outputId": "80b137f6-114d-4a7a-ca6e-a5be87160c99"
      },
      "execution_count": null,
      "outputs": [
        {
          "output_type": "stream",
          "name": "stdout",
          "text": [
            "T-statistic: 3.63\n",
            "P-value: 0.0019\n",
            " Multiple Comparison of Means - Tukey HSD, FWER=0.05 \n",
            "=====================================================\n",
            "group1 group2 meandiff p-adj   lower    upper  reject\n",
            "-----------------------------------------------------\n",
            "     0      1     -7.0 0.0019 -11.0545 -2.9455   True\n",
            "-----------------------------------------------------\n",
            "Reject the null hypothesis\n"
          ]
        }
      ]
    },
    {
      "cell_type": "markdown",
      "source": [
        "# Q12. A researcher wants to know if there are any significant differences in the average daily sales of three retail stores: Store A, Store B, and Store C. They randomly select 30 days and record the sales for each store on those days. Conduct a repeated measures ANOVA using Python to determine if there are any significant differences in sales between the three stores. If the results are significant, follow up with a post-hoc test to determine which store(s) differ significantly from each other.\n",
        "\n",
        "**Answer:**\n",
        "Interpretation: Examine the p-value in the ANOVA table. If the p-value is less than the significance level, you can reject the null hypothesis and conclude that there are significant differences in sales between at least two stores. If significant, follow up with a post-hoc test to identify the specific store(s) that differ significantly from each other"
      ],
      "metadata": {
        "id": "PU94eQEVqb3x"
      }
    },
    {
      "cell_type": "code",
      "source": [
        "import pandas as pd\n",
        "import statsmodels.api as sm\n",
        "from statsmodels.formula.api import ols\n",
        "\n",
        "# Example sales values for three stores over 30 days\n",
        "sales_values = [1200, 1400, 1600, 1100, 1300, 1500, 1300, 1400, 1500, 1000,\n",
        "                1100, 1200, 900, 1000, 1100, 800, 900, 1200, 1600, 2000,\n",
        "                1800, 2200, 2000, 2400, 2100, 1900, 1700, 2300, 2500, 2600,\n",
        "                2400, 2700, 2900, 2300, 2500, 2700, 2200, 2400, 2600,2500, 2400, 2100, 1900, 1700, 2300,]\n",
        "\n",
        "# Create a DataFrame with columns: Store, Day, Sales\n",
        "data = pd.DataFrame({\n",
        "    'Store': ['Store A', 'Store B', 'Store C'] * 30,\n",
        "    'Day': list(range(1, 31)) * 3,\n",
        "    'Sales': sales_values * 2\n",
        "})\n",
        "\n",
        "model = ols('Sales ~ Store', data=data).fit()\n",
        "anova_table = sm.stats.anova_lm(model, typ=2)\n",
        "\n",
        "print(anova_table)"
      ],
      "metadata": {
        "colab": {
          "base_uri": "https://localhost:8080/"
        },
        "id": "p4IRRn90pqwD",
        "outputId": "b811f5b5-fbaa-46c9-992c-e3ae4cefb4fa"
      },
      "execution_count": null,
      "outputs": [
        {
          "output_type": "stream",
          "name": "stdout",
          "text": [
            "                sum_sq    df         F    PR(>F)\n",
            "Store     7.786667e+05   2.0  1.092739  0.339854\n",
            "Residual  3.099733e+07  87.0       NaN       NaN\n"
          ]
        }
      ]
    }
  ]
}