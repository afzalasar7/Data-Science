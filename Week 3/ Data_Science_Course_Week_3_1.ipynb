{
  "nbformat": 4,
  "nbformat_minor": 0,
  "metadata": {
    "colab": {
      "provenance": [],
      "authorship_tag": "ABX9TyMIg3o1110rN7gWDJ32EWm8",
      "include_colab_link": true
    },
    "kernelspec": {
      "name": "python3",
      "display_name": "Python 3"
    },
    "language_info": {
      "name": "python"
    }
  },
  "cells": [
    {
      "cell_type": "markdown",
      "metadata": {
        "id": "view-in-github",
        "colab_type": "text"
      },
      "source": [
        "<a href=\"https://colab.research.google.com/github/afzalasar7/Data-Science/blob/main/Week%203/%20Data_Science_Course_Week_3_1.ipynb\" target=\"_parent\"><img src=\"https://colab.research.google.com/assets/colab-badge.svg\" alt=\"Open In Colab\"/></a>"
      ]
    },
    {
      "cell_type": "markdown",
      "source": [
        "## Q1. Which keyword is used to create a function? Create a function to return a list of odd numbers in the range of 1 to 25.\n",
        "\n",
        "\n",
        "\n",
        "In Python, the keyword used to create a function is \"def.\" "
      ],
      "metadata": {
        "id": "YmpjkCgT-MCE"
      }
    },
    {
      "cell_type": "code",
      "source": [
        "def get_odd_numbers():\n",
        "    odd_numbers = []\n",
        "    for num in range(1, 26):\n",
        "        if num % 2 != 0:\n",
        "            odd_numbers.append(num)\n",
        "    return odd_numbers\n",
        "\n",
        "# Call the function\n",
        "result = get_odd_numbers()\n",
        "print(result)"
      ],
      "metadata": {
        "colab": {
          "base_uri": "https://localhost:8080/"
        },
        "id": "CIebnyVS-em0",
        "outputId": "61c61407-0be1-41ca-e5d4-d0297e1ba2ce"
      },
      "execution_count": 3,
      "outputs": [
        {
          "output_type": "stream",
          "name": "stdout",
          "text": [
            "[1, 3, 5, 7, 9, 11, 13, 15, 17, 19, 21, 23, 25]\n"
          ]
        }
      ]
    },
    {
      "cell_type": "markdown",
      "source": [
        "## Q2. Why *args and **kwargs is used in some functions? Create a function each for *args and **kwargs to demonstrate their use.\n",
        "\n",
        "In Python, *args and **kwargs are used in function definitions to allow a variable number of arguments to be passed to the function.\n",
        "\n",
        "The *args syntax is used to pass a variable number of non-keyword arguments to a function. It allows you to pass any number of positional arguments, and the function treats them as a tuple. Here's an example of how to create a function using *args:\n",
        "\n",
        "```python\n",
        "def sum_numbers(*args):\n",
        "    total = 0\n",
        "    for num in args:\n",
        "        total += num\n",
        "    return total\n",
        "\n",
        "# Call the function\n",
        "result = sum_numbers(1, 2, 3, 4, 5)\n",
        "print(result)\n",
        "```\n",
        "\n",
        "In this example, the function `sum_numbers` takes any number of arguments and adds them together. The `*args` parameter collects all the arguments passed to the function as a tuple. In this case, the function is called with the arguments 1, 2, 3, 4, and 5, and it returns the sum of those numbers, which is 15.\n",
        "\n",
        "The **kwargs syntax is used to pass a variable number of keyword arguments to a function. It allows you to pass any number of keyword arguments, and the function treats them as a dictionary. Here's an example of how to create a function using **kwargs:\n",
        "\n",
        "```python\n",
        "def display_info(**kwargs):\n",
        "    for key, value in kwargs.items():\n",
        "        print(f\"{key}: {value}\")\n",
        "\n",
        "# Call the function\n",
        "display_info(name=\"John\", age=25, country=\"USA\")\n",
        "```\n",
        "\n",
        "In this example, the function `display_info` takes any number of keyword arguments and prints them. The `**kwargs` parameter collects all the keyword arguments passed to the function as a dictionary. In this case, the function is called with the arguments name=\"John\", age=25, and country=\"USA\". The function then iterates over the dictionary and prints each key-value pair. The output will be:\n",
        "\n",
        "```\n",
        "name: John\n",
        "age: 25\n",
        "country: USA\n",
        "```\n",
        "\n",
        "This demonstrates how **kwargs allows you to pass and process a variable number of keyword arguments in a function."
      ],
      "metadata": {
        "id": "F0-gSVpD93Mm"
      }
    },
    {
      "cell_type": "markdown",
      "source": [
        "## Q3. What is an iterator in python? Name the method used to initialise the iterator object and the methodused for iteration. Use these methods to print the first five elements of the given list [2, 4, 6, 8, 10, 12, 14, 16, 18, 20]\n",
        "\n",
        "In Python, an iterator is an object that implements the iterator protocol, which consists of the `__iter__()` method and the `__next__()` method. Iterators are used to iterate over a sequence of elements, such as a list, tuple, or custom-defined object.\n",
        "\n",
        "The `__iter__()` method is used to initialize the iterator object. It returns the iterator object itself. This method is called when an iterator is created for an iterable, allowing it to perform any necessary setup or initialization.\n",
        "\n",
        "The `__next__()` method is used to fetch the next element from the iterator. It returns the next element in the sequence. If there are no more elements, it raises the `StopIteration` exception to signal the end of the iteration.\n",
        "\n",
        "Here's an example of how to use these methods to print the first five elements of the given list [2, 4, 6, 8, 10, 12, 14, 16, 18, 20]:\n",
        "\n",
        "```python\n",
        "my_list = [2, 4, 6, 8, 10, 12, 14, 16, 18, 20]\n",
        "\n",
        "# Create an iterator object\n",
        "my_iterator = iter(my_list)\n",
        "\n",
        "# Iterate and print the first five elements\n",
        "for _ in range(5):\n",
        "    element = next(my_iterator)\n",
        "    print(element)\n",
        "```\n",
        "\n",
        "In this example, we first create an iterator object `my_iterator` using the `iter()` function, passing in the list `my_list`. Then, we use a loop to iterate five times. In each iteration, we call the `next()` function on the iterator object to retrieve the next element from the list. The `next()` function automatically calls the `__next__()` method on the iterator object. Finally, we print each element obtained from the iterator.\n",
        "\n",
        "The output will be:\n",
        "\n",
        "```\n",
        "2\n",
        "4\n",
        "6\n",
        "8\n",
        "10\n",
        "```\n",
        "\n",
        "This demonstrates how the iterator protocol is used to iterate over the first five elements of a list."
      ],
      "metadata": {
        "id": "3zjn3vTv-w2v"
      }
    },
    {
      "cell_type": "markdown",
      "source": [
        "## Q4. What is a generator function in python? Why yield keyword is used? Give an example of a generator function.\n",
        "\n",
        "In Python, a generator function is a special type of function that uses the `yield` keyword instead of `return` to generate a sequence of values. When a generator function is called, it returns an iterator object that can be iterated over to retrieve the values generated by the function.\n",
        "\n",
        "The `yield` keyword is used in a generator function to temporarily suspend the execution of the function and yield a value to the caller. The function can then be resumed from where it left off, allowing it to generate the next value in the sequence. This feature is what distinguishes generator functions from regular functions.\n",
        "\n",
        "Here's an example of a generator function that generates a sequence of even numbers:\n",
        "\n",
        "```python\n",
        "def even_numbers(n):\n",
        "    i = 0\n",
        "    while i < n:\n",
        "        yield i\n",
        "        i += 2\n",
        "```\n",
        "\n",
        "In this example, the `even_numbers` function generates even numbers up to a given limit `n`. It uses a `while` loop to iterate and yield each even number. The `yield` statement temporarily suspends the function, and the yielded value is returned to the caller. The function will resume from the next line every time it's iterated over.\n",
        "\n",
        "You can use the generator function in a loop to retrieve the generated values, like this:\n",
        "\n",
        "```python\n",
        "for num in even_numbers(10):\n",
        "    print(num)\n",
        "```\n",
        "\n",
        "Output:\n",
        "```\n",
        "0\n",
        "2\n",
        "4\n",
        "6\n",
        "8\n",
        "```\n",
        "\n",
        "In this case, the loop iterates over the generator function and prints each generated even number up to the limit of 10. The values are generated on the fly as they are needed, which makes generator functions memory-efficient and suitable for generating large sequences or infinite sequences.\n"
      ],
      "metadata": {
        "id": "5DZtCrzz_eNG"
      }
    },
    {
      "cell_type": "markdown",
      "source": [
        "## Q5. Create a generator function for prime numbers less than 1000. Use the next() method to print the first 20 prime numbers.\n"
      ],
      "metadata": {
        "id": "9QsGCgRbAFtm"
      }
    },
    {
      "cell_type": "code",
      "source": [
        "def prime_numbers():\n",
        "    num = 2\n",
        "    while True:\n",
        "        if all(num % i != 0 for i in range(2, int(num ** 0.5) + 1)):\n",
        "            yield num\n",
        "        num += 1\n",
        "\n",
        "# Create the generator object\n",
        "generator = prime_numbers()\n",
        "\n",
        "# Print the first 20 prime numbers\n",
        "for _ in range(20):\n",
        "    prime = next(generator)\n",
        "    print(prime)\n"
      ],
      "metadata": {
        "colab": {
          "base_uri": "https://localhost:8080/"
        },
        "id": "hh5ECfoeAQpA",
        "outputId": "071ece1d-872f-4d01-a38d-cd536b1178ad"
      },
      "execution_count": 4,
      "outputs": [
        {
          "output_type": "stream",
          "name": "stdout",
          "text": [
            "2\n",
            "3\n",
            "5\n",
            "7\n",
            "11\n",
            "13\n",
            "17\n",
            "19\n",
            "23\n",
            "29\n",
            "31\n",
            "37\n",
            "41\n",
            "43\n",
            "47\n",
            "53\n",
            "59\n",
            "61\n",
            "67\n",
            "71\n"
          ]
        }
      ]
    },
    {
      "cell_type": "markdown",
      "source": [
        "## Q6. Write a python program to print the first 10 Fibonacci numbers using a while loop.\n"
      ],
      "metadata": {
        "id": "thKoZt6XAc47"
      }
    },
    {
      "cell_type": "code",
      "source": [
        "def fibonacci(n):\n",
        "    fib_seq = []\n",
        "    a, b = 0, 1\n",
        "\n",
        "    while len(fib_seq) < n:\n",
        "        fib_seq.append(a)\n",
        "        a, b = b, a + b\n",
        "\n",
        "    return fib_seq\n",
        "\n",
        "# Print the first 10 Fibonacci numbers\n",
        "fib_numbers = fibonacci(10)\n",
        "for number in fib_numbers:\n",
        "    print(number)\n"
      ],
      "metadata": {
        "colab": {
          "base_uri": "https://localhost:8080/"
        },
        "id": "76L91fZqAhH-",
        "outputId": "2bf606b1-130d-4f28-9984-84863a0e3293"
      },
      "execution_count": 5,
      "outputs": [
        {
          "output_type": "stream",
          "name": "stdout",
          "text": [
            "0\n",
            "1\n",
            "1\n",
            "2\n",
            "3\n",
            "5\n",
            "8\n",
            "13\n",
            "21\n",
            "34\n"
          ]
        }
      ]
    },
    {
      "cell_type": "markdown",
      "source": [
        "## Q7. Write a List Comprehension to iterate through the given string: ‘pwskills’. Expected output: ['p', 'w', 's', 'k', 'i', 'l', 'l', 's']\n"
      ],
      "metadata": {
        "id": "VNYbmyALAjTP"
      }
    },
    {
      "cell_type": "code",
      "source": [
        "string = 'pwskills'\n",
        "result = [char for char in string]\n",
        "print(result)\n"
      ],
      "metadata": {
        "colab": {
          "base_uri": "https://localhost:8080/"
        },
        "id": "-JsrXvnmAqnc",
        "outputId": "5bcc3c26-92c5-4ed9-ddaa-3445d35348ec"
      },
      "execution_count": 6,
      "outputs": [
        {
          "output_type": "stream",
          "name": "stdout",
          "text": [
            "['p', 'w', 's', 'k', 'i', 'l', 'l', 's']\n"
          ]
        }
      ]
    },
    {
      "cell_type": "markdown",
      "source": [
        "## Q8. Write a python program to check whether a given number is Palindrome or not using a while loop.\n"
      ],
      "metadata": {
        "id": "FERGE5ZbA6a8"
      }
    },
    {
      "cell_type": "code",
      "source": [
        "def is_palindrome(number):\n",
        "    original_number = number\n",
        "    reverse_number = 0\n",
        "\n",
        "    while number > 0:\n",
        "        digit = number % 10\n",
        "        reverse_number = (reverse_number * 10) + digit\n",
        "        number = number // 10\n",
        "\n",
        "    if original_number == reverse_number:\n",
        "        return True\n",
        "    else:\n",
        "        return False\n",
        "\n",
        "# Test the program\n",
        "for i in range (2):\n",
        "  num = int(input(\"Enter a number: \"))\n",
        "  if is_palindrome(num):\n",
        "      print(num, \"is a palindrome.\")\n",
        "  else:\n",
        "      print(num, \"is not a palindrome.\")\n"
      ],
      "metadata": {
        "colab": {
          "base_uri": "https://localhost:8080/"
        },
        "id": "uxvtLuICBA4j",
        "outputId": "6c766eab-f4b4-4e57-a612-854b1ad29bf7"
      },
      "execution_count": 10,
      "outputs": [
        {
          "output_type": "stream",
          "name": "stdout",
          "text": [
            "Enter a number: 138686\n",
            "138686 is not a palindrome.\n",
            "Enter a number: 123454321\n",
            "123454321 is a palindrome.\n"
          ]
        }
      ]
    },
    {
      "cell_type": "markdown",
      "source": [
        "## Q9. Write a code to print odd numbers from 1 to 100 using list comprehension.\n",
        "Note: Use a list comprehension to create a list from 1 to 100 and use another List comprehension to filter\n",
        "out odd numbers."
      ],
      "metadata": {
        "id": "ywcUIjDLBJR9"
      }
    },
    {
      "cell_type": "code",
      "source": [
        "odd_numbers = [num for num in range(1, 101) if num % 2 != 0]\n",
        "print(odd_numbers)"
      ],
      "metadata": {
        "colab": {
          "base_uri": "https://localhost:8080/"
        },
        "id": "zt393rFwCBjV",
        "outputId": "6194f4b8-bd2c-43a5-eb61-c614af5e2f2b"
      },
      "execution_count": 11,
      "outputs": [
        {
          "output_type": "stream",
          "name": "stdout",
          "text": [
            "[1, 3, 5, 7, 9, 11, 13, 15, 17, 19, 21, 23, 25, 27, 29, 31, 33, 35, 37, 39, 41, 43, 45, 47, 49, 51, 53, 55, 57, 59, 61, 63, 65, 67, 69, 71, 73, 75, 77, 79, 81, 83, 85, 87, 89, 91, 93, 95, 97, 99]\n"
          ]
        }
      ]
    }
  ]
}