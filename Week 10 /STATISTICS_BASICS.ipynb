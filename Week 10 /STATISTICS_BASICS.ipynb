{
  "nbformat": 4,
  "nbformat_minor": 0,
  "metadata": {
    "colab": {
      "provenance": [],
      "authorship_tag": "ABX9TyPWjI3BhU4srt0UqaAS5BWJ",
      "include_colab_link": true
    },
    "kernelspec": {
      "name": "python3",
      "display_name": "Python 3"
    },
    "language_info": {
      "name": "python"
    }
  },
  "cells": [
    {
      "cell_type": "markdown",
      "metadata": {
        "id": "view-in-github",
        "colab_type": "text"
      },
      "source": [
        "<a href=\"https://colab.research.google.com/github/afzalasar7/Data-Science/blob/main/Week%2010%20-12/STATISTICS_BASIC_1.ipynb\" target=\"_parent\"><img src=\"https://colab.research.google.com/assets/colab-badge.svg\" alt=\"Open In Colab\"/></a>"
      ]
    },
    {
      "cell_type": "markdown",
      "source": [
        "# Q1. What is Statistics?\n",
        "Statistics is a branch of mathematics that involves collecting, organizing, analyzing, interpreting, and presenting data. It provides methods and techniques for summarizing and making inferences from data to understand patterns, relationships, and trends in various phenomena.\n",
        "\n",
        "# Q2. Define the different types of statistics and give an example of when each type might be used.\n",
        "- Descriptive Statistics: These are used to describe and summarize data, providing insights into its basic features. For example, calculating the mean, median, and standard deviation of test scores in a class.\n",
        "- Inferential Statistics: These involve making predictions or inferences about a population based on a sample. For instance, using a sample of voters to predict the outcome of an election.\n",
        "- Exploratory Statistics: This type involves searching for patterns and relationships within data to generate hypotheses. For example, analyzing consumer data to identify potential market trends.\n",
        "\n",
        "# Q3. What are the different types of data and how do they differ from each other? Provide an example of each type of data.\n",
        "- **Categorical Data:** This type represents categories or labels and cannot be ordered or measured numerically. Example: Eye colors (blue, brown, green).\n",
        "- **Ordinal Data:** These categories have a natural order but the differences between them are not uniform. Example: Educational levels (high school, bachelor's, master's).\n",
        "- **Interval Data:** These have a numerical scale where the differences between values are meaningful, but there is no true zero point. Example: Temperature in Celsius or Fahrenheit.\n",
        "- **Ratio Data:** Similar to interval data but with a true zero point, allowing for meaningful ratios. Example: Height, weight, income.\n",
        "\n",
        "# Q4. Categorize the following datasets with respect to quantitative and qualitative data types:\n",
        "(i) Grading in exam: Qualitative (Ordinal)\n",
        "(ii) Colour of mangoes: Qualitative (Nominal)\n",
        "(iii) Height data of a class: Quantitative (Ratio)\n",
        "(iv) Number of mangoes exported by a farm: Quantitative (Ratio)\n",
        "\n",
        "# Q5. Explain the concept of levels of measurement and give an example of a variable for each level.\n",
        "Levels of measurement refer to the hierarchy of data types based on the amount of information they convey:\n",
        "- **Nominal:** Categories with no inherent order. Example: Gender (Male, Female, Other).\n",
        "- **Ordinal:** Categories with a meaningful order but unequal intervals. Example: Education level (High School, Bachelor's, Master's).\n",
        "- **Interval:** Ordered categories with equal intervals, but no true zero point. Example: Temperature in Celsius.\n",
        "- **Ratio:** Ordered categories with equal intervals and a true zero point, allowing ratios. Example: Height in centimeters.\n",
        "\n",
        "# Q6. Why is it important to understand the level of measurement when analyzing data? Provide an example to illustrate your answer.\n",
        "Understanding the level of measurement is crucial because it dictates the types of statistical analyses that can be applied. For instance, applying arithmetic operations like ratios to nominal data doesn't make sense. For example, calculating the average of nominal data like eye colors would be meaningless.\n",
        "\n",
        "# Q7. How is the nominal data type different from the ordinal data type?\n",
        "Nominal data involves categories without any inherent order, whereas ordinal data has categories with a meaningful order. For instance, eye colors (nominal) have no natural sequence, while education levels (ordinal) like high school, bachelor's, and master's have a clear order.\n",
        "\n",
        "# Q8. Which type of plot can be used to display data in terms of range?\n",
        "A **box plot** (also known as a box-and-whisker plot) is commonly used to display data in terms of its range. It shows the median, quartiles, and possible outliers, giving a visual representation of the data's spread.\n",
        "\n",
        "# Q9. Describe the difference between descriptive and inferential statistics. Give an example of each type of statistics and explain how they are used.\n",
        "- **Descriptive Statistics:** These summarize and describe data, providing insights into its characteristics. Example: Calculating the mean and standard deviation of test scores in a class.\n",
        "- **Inferential Statistics:** These make predictions or inferences about a larger population based on a sample. Example: Using a sample of product reviews to estimate the overall satisfaction level of customers.\n",
        "\n",
        "# Q10. What are some common measures of central tendency and variability used in statistics? Explain how each measure can be used to describe a dataset.\n",
        "- **Measures of Central Tendency:** These include the mean (average), median (middle value), and mode (most frequent value). They provide a central value around which data clusters.\n",
        "- **Measures of Variability:** These include the range (difference between the maximum and minimum), variance (average of squared differences from the mean), and standard deviation (square root of variance). They indicate how spread out or clustered the data points are around the central value."
      ],
      "metadata": {
        "id": "4bw5mu0NgLMV"
      }
    }
  ]
}
