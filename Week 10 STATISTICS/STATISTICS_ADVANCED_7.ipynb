{
  "nbformat": 4,
  "nbformat_minor": 0,
  "metadata": {
    "colab": {
      "provenance": [],
      "authorship_tag": "ABX9TyMrn3OvdGGS4LlZ4ek4UzpN",
      "include_colab_link": true
    },
    "kernelspec": {
      "name": "python3",
      "display_name": "Python 3"
    },
    "language_info": {
      "name": "python"
    }
  },
  "cells": [
    {
      "cell_type": "markdown",
      "metadata": {
        "id": "view-in-github",
        "colab_type": "text"
      },
      "source": [
        "<a href=\"https://colab.research.google.com/github/afzalasar7/Data-Science/blob/main/Week%2010%20STATISTICS/STATISTICS_ADVANCED_7.ipynb\" target=\"_parent\"><img src=\"https://colab.research.google.com/assets/colab-badge.svg\" alt=\"Open In Colab\"/></a>"
      ]
    },
    {
      "cell_type": "markdown",
      "source": [
        "# Q1. Write a Python function that takes in two arrays of data and calculates the F-value for a variance ratio test. The function should return the F-value and the corresponding p-value for the test."
      ],
      "metadata": {
        "id": "OZ9aD3qTr-u7"
      }
    },
    {
      "cell_type": "code",
      "source": [
        "import numpy as np\n",
        "import scipy.stats as stats\n",
        "\n",
        "def variance_ratio_test(data1, data2):\n",
        "    f_statistic = np.var(data1, ddof=1) / np.var(data2, ddof=1)\n",
        "    degrees_of_freedom1 = len(data1) - 1\n",
        "    degrees_of_freedom2 = len(data2) - 1\n",
        "    p_value = 1 - stats.f.cdf(f_statistic, degrees_of_freedom1, degrees_of_freedom2)\n",
        "    return f_statistic, p_value\n",
        "\n",
        "data1 = [12.5, 15.2, 14.7, 16.8, 13.9, 14.2, 16.0, 13.5]\n",
        "data2 = [10.6, 11.8, 12.2, 10.9, 12.5, 11.3, 11.5, 12.0]\n",
        "f_value, p_value = variance_ratio_test(data1, data2)\n",
        "print(f\"F-value: {f_value:.4f}\")\n",
        "print(f\"P-value: {p_value:.4f}\")"
      ],
      "metadata": {
        "colab": {
          "base_uri": "https://localhost:8080/"
        },
        "id": "iNWu8j23siAs",
        "outputId": "b1c769af-d709-480c-b449-138786ef3531"
      },
      "execution_count": 12,
      "outputs": [
        {
          "output_type": "stream",
          "name": "stdout",
          "text": [
            "F-value: 4.5405\n",
            "P-value: 0.0320\n"
          ]
        }
      ]
    },
    {
      "cell_type": "markdown",
      "source": [
        "# Q2. Given a significance level of 0.05 and the degrees of freedom for the numerator and denominator of an F-distribution, write a Python function that returns the critical F-value for a two-tailed test.\n"
      ],
      "metadata": {
        "id": "OCKjLvFPsskB"
      }
    },
    {
      "cell_type": "code",
      "source": [
        "import scipy.stats as stats\n",
        "\n",
        "def critical_f_value(alpha, df_num, df_den):\n",
        "    return stats.f.ppf(1 - alpha / 2, df_num, df_den)\n",
        "\n",
        "alpha = 0.05\n",
        "df_num = 30\n",
        "df_den = 5\n",
        "critical_f = critical_f_value(alpha, df_num, df_den)\n",
        "print(f\"Critical F-value: {critical_f:.4f}\")\n"
      ],
      "metadata": {
        "colab": {
          "base_uri": "https://localhost:8080/"
        },
        "id": "Vfv6U0VjsuRB",
        "outputId": "53121367-a22f-42d8-d04d-364c4af50ffd"
      },
      "execution_count": 13,
      "outputs": [
        {
          "output_type": "stream",
          "name": "stdout",
          "text": [
            "Critical F-value: 6.2269\n"
          ]
        }
      ]
    },
    {
      "cell_type": "markdown",
      "source": [
        "# Q3. Write a Python program that generates random samples from two normal distributions with known variances and uses an F-test to determine if the variances are equal. The program should output the F-value, degrees of freedom, and p-value for the test.\n"
      ],
      "metadata": {
        "id": "I8cHIBEcsu4v"
      }
    },
    {
      "cell_type": "code",
      "source": [
        "import numpy as np\n",
        "import scipy.stats as stats\n",
        "\n",
        "# Generate random samples\n",
        "np.random.seed(42)\n",
        "sample_size = 30\n",
        "data1 = np.random.normal(loc=0, scale=2, size=sample_size)\n",
        "data2 = np.random.normal(loc=0, scale=2, size=sample_size)\n",
        "\n",
        "# Perform F-test\n",
        "f_statistic = np.var(data1, ddof=1) / np.var(data2, ddof=1)\n",
        "df1 = sample_size - 1\n",
        "df2 = sample_size - 1\n",
        "p_value = 1 - stats.f.cdf(f_statistic, df1, df2)\n",
        "\n",
        "print(f\"F-value: {f_statistic:.4f}\")\n",
        "print(f\"Degrees of Freedom: ({df1}, {df2})\")\n",
        "print(f\"P-value: {p_value:.4f}\")"
      ],
      "metadata": {
        "colab": {
          "base_uri": "https://localhost:8080/"
        },
        "id": "g_hbNlW4swiG",
        "outputId": "798bb21c-8fe6-4146-a0f8-0bcb6145253b"
      },
      "execution_count": 14,
      "outputs": [
        {
          "output_type": "stream",
          "name": "stdout",
          "text": [
            "F-value: 0.9343\n",
            "Degrees of Freedom: (29, 29)\n",
            "P-value: 0.5719\n"
          ]
        }
      ]
    },
    {
      "cell_type": "markdown",
      "source": [
        "# Q4. The variances of two populations are known to be 10 and 15. A sample of 12 observations is taken from each population. Conduct an F-test at the 5% significance level to determine if the variances are significantly different.\n"
      ],
      "metadata": {
        "id": "9Ql0xXllsxCY"
      }
    },
    {
      "cell_type": "code",
      "source": [
        "import scipy.stats as stats\n",
        "\n",
        "variance1 = 10\n",
        "variance2 = 15\n",
        "sample_size = 12\n",
        "\n",
        "f_statistic = variance1 / variance2\n",
        "df1 = sample_size - 1\n",
        "df2 = sample_size - 1\n",
        "alpha = 0.05\n",
        "p_value = 1 - stats.f.cdf(f_statistic, df1, df2)\n",
        "\n",
        "if p_value < alpha:\n",
        "    result = \"Reject the null hypothesis\"\n",
        "else:\n",
        "    result = \"Fail to reject the null hypothesis\"\n",
        "\n",
        "print(result)"
      ],
      "metadata": {
        "colab": {
          "base_uri": "https://localhost:8080/"
        },
        "id": "A4nm3gjksynI",
        "outputId": "89273a1a-3526-4e8f-c3aa-8133d79ebe1c"
      },
      "execution_count": 15,
      "outputs": [
        {
          "output_type": "stream",
          "name": "stdout",
          "text": [
            "Fail to reject the null hypothesis\n"
          ]
        }
      ]
    },
    {
      "cell_type": "markdown",
      "source": [
        "# Q5. A manufacturer claims that the variance of the diameter of a certain product is 0.005. A sample of 25 products is taken, and the sample variance is found to be 0.006. Conduct an F-test at the 1% significance level to determine if the claim is justified.\n"
      ],
      "metadata": {
        "id": "Gc1UJ-IQszDp"
      }
    },
    {
      "cell_type": "code",
      "source": [
        "import scipy.stats as stats\n",
        "\n",
        "claimed_variance = 0.005\n",
        "sample_variance = 0.006\n",
        "sample_size = 25\n",
        "\n",
        "f_statistic = sample_variance / claimed_variance\n",
        "df1 = sample_size - 1\n",
        "df2 = sample_size - 1\n",
        "alpha = 0.01\n",
        "p_value = 1 - stats.f.cdf(f_statistic, df1, df2)\n",
        "\n",
        "if p_value < alpha:\n",
        "    result = \"Reject the null hypothesis\"\n",
        "else:\n",
        "    result = \"Fail to reject the null hypothesis\"\n",
        "\n",
        "print(result)"
      ],
      "metadata": {
        "colab": {
          "base_uri": "https://localhost:8080/"
        },
        "id": "iLVwL5Ons0e7",
        "outputId": "214bc110-f7a9-49f8-aaef-88da207d52e5"
      },
      "execution_count": 16,
      "outputs": [
        {
          "output_type": "stream",
          "name": "stdout",
          "text": [
            "Fail to reject the null hypothesis\n"
          ]
        }
      ]
    },
    {
      "cell_type": "markdown",
      "source": [
        "# Q6. Write a Python function that takes in the degrees of freedom for the numerator and denominator of an F-distribution and calculates the mean and variance of the distribution. The function should return the mean and variance as a tuple.\n"
      ],
      "metadata": {
        "id": "Ee2DLBz-s0-i"
      }
    },
    {
      "cell_type": "code",
      "source": [
        "import scipy.stats as stats\n",
        "\n",
        "def calculate_f_distribution_mean_variance(df1, df2):\n",
        "    mean = df2 / (df2 - 2)\n",
        "    variance = (2 * (df2 ** 2) * (df1 + df2 - 2)) / (df1 * (df2 - 2) ** 2 * (df2 - 4))\n",
        "    return mean, variance\n",
        "\n",
        "degrees_freedom_numerator = 5\n",
        "degrees_freedom_denominator = 10\n",
        "mean, variance = calculate_f_distribution_mean_variance(degrees_freedom_numerator, degrees_freedom_denominator)\n",
        "\n",
        "print(f\"Mean of F-distribution: {mean:.4f}\")\n",
        "print(f\"Variance of F-distribution: {variance:.4f}\")\n"
      ],
      "metadata": {
        "colab": {
          "base_uri": "https://localhost:8080/"
        },
        "id": "GRW86kCkuLyp",
        "outputId": "9622b304-a7aa-4b7b-ecce-70ae233a7eb2"
      },
      "execution_count": 17,
      "outputs": [
        {
          "output_type": "stream",
          "name": "stdout",
          "text": [
            "Mean of F-distribution: 1.2500\n",
            "Variance of F-distribution: 1.3542\n"
          ]
        }
      ]
    },
    {
      "cell_type": "markdown",
      "source": [
        "#Q7. A random sample of 10 measurements is taken from a normal population with unknown variance. The sample variance is found to be 25. Another random sample of 15 measurements is taken from another normal population with unknown variance, and the sample variance is found to be 20. Conduct an F-test at the 10% significance level to determine if the variances are significantly different.\n"
      ],
      "metadata": {
        "id": "7zW9Hh1huMW5"
      }
    },
    {
      "cell_type": "code",
      "source": [
        "import scipy.stats as stats\n",
        "\n",
        "sample_variance1 = 25\n",
        "sample_size1 = 10\n",
        "sample_variance2 = 20\n",
        "sample_size2 = 15\n",
        "alpha = 0.10\n",
        "\n",
        "f_statistic = sample_variance1 / sample_variance2\n",
        "degrees_freedom1 = sample_size1 - 1\n",
        "degrees_freedom2 = sample_size2 - 1\n",
        "p_value = 1 - stats.f.cdf(f_statistic, degrees_freedom1, degrees_freedom2)\n",
        "\n",
        "if p_value < alpha:\n",
        "    result = \"Reject the null hypothesis\"\n",
        "else:\n",
        "    result = \"Fail to reject the null hypothesis\"\n",
        "\n",
        "print(f\"F-statistic: {f_statistic:.4f}\")\n",
        "print(f\"P-value: {p_value:.4f}\")\n",
        "print(result)\n"
      ],
      "metadata": {
        "colab": {
          "base_uri": "https://localhost:8080/"
        },
        "id": "xc0ZWXG5uTPc",
        "outputId": "13cc34a5-1b55-4b88-ce5b-a57dd4c02b06"
      },
      "execution_count": 18,
      "outputs": [
        {
          "output_type": "stream",
          "name": "stdout",
          "text": [
            "F-statistic: 1.2500\n",
            "P-value: 0.3416\n",
            "Fail to reject the null hypothesis\n"
          ]
        }
      ]
    },
    {
      "cell_type": "markdown",
      "source": [
        "# Q8. The following data represent the waiting times in minutes at two different restaurants on a Saturday night: Restaurant A: 24, 25, 28, 23, 22, 20, 27; Restaurant B: 31, 33, 35, 30, 32, 36. Conduct an F-test at the 5% significance level to determine if the variances are significantly different.\n"
      ],
      "metadata": {
        "id": "t4iREQrPuT_m"
      }
    },
    {
      "cell_type": "code",
      "source": [
        "import scipy.stats as stats\n",
        "\n",
        "restaurant_A_waiting_times = [24, 25, 28, 23, 22, 20, 27]\n",
        "restaurant_B_waiting_times = [31, 33, 35, 30, 32, 36]\n",
        "alpha = 0.05\n",
        "\n",
        "variance_A = np.var(restaurant_A_waiting_times, ddof=1)\n",
        "variance_B = np.var(restaurant_B_waiting_times, ddof=1)\n",
        "\n",
        "f_statistic = variance_A / variance_B\n",
        "degrees_freedom1 = len(restaurant_A_waiting_times) - 1\n",
        "degrees_freedom2 = len(restaurant_B_waiting_times) - 1\n",
        "p_value = 1 - stats.f.cdf(f_statistic, degrees_freedom1, degrees_freedom2)\n",
        "\n",
        "if p_value < alpha:\n",
        "    result = \"Reject the null hypothesis\"\n",
        "else:\n",
        "    result = \"Fail to reject the null hypothesis\"\n",
        "\n",
        "print(f\"F-statistic: {f_statistic:.4f}\")\n",
        "print(f\"P-value: {p_value:.4f}\")\n",
        "print(result)\n"
      ],
      "metadata": {
        "colab": {
          "base_uri": "https://localhost:8080/"
        },
        "id": "fMNCXlnQuaBV",
        "outputId": "c6a8f4d0-44f5-4ed4-a1ac-c5ce6ac24901"
      },
      "execution_count": 19,
      "outputs": [
        {
          "output_type": "stream",
          "name": "stdout",
          "text": [
            "F-statistic: 1.4552\n",
            "P-value: 0.3487\n",
            "Fail to reject the null hypothesis\n"
          ]
        }
      ]
    },
    {
      "cell_type": "markdown",
      "source": [
        "# Q9. The following data represent the test scores of two groups of students: Group A: 80, 85, 90, 92, 87, 83; Group B: 75, 78, 82, 79, 81, 84. Conduct an F-test at the 1% significance level to determine if the variances are significantly different."
      ],
      "metadata": {
        "id": "zrir4F3uua82"
      }
    },
    {
      "cell_type": "code",
      "source": [
        "import scipy.stats as stats\n",
        "\n",
        "group_A_scores = [80, 85, 90, 92, 87, 83]\n",
        "group_B_scores = [75, 78, 82, 79, 81, 84]\n",
        "alpha = 0.01\n",
        "\n",
        "variance_A = np.var(group_A_scores, ddof=1)\n",
        "variance_B = np.var(group_B_scores, ddof=1)\n",
        "\n",
        "f_statistic = variance_A / variance_B\n",
        "degrees_freedom1 = len(group_A_scores) - 1\n",
        "degrees_freedom2 = len(group_B_scores) - 1\n",
        "p_value = 1 - stats.f.cdf(f_statistic, degrees_freedom1, degrees_freedom2)\n",
        "\n",
        "if p_value < alpha:\n",
        "    result = \"Reject the null hypothesis\"\n",
        "else:\n",
        "    result = \"Fail to reject the null hypothesis\"\n",
        "\n",
        "print(f\"F-statistic: {f_statistic:.4f}\")\n",
        "print(f\"P-value: {p_value:.4f}\")\n",
        "print(result)\n"
      ],
      "metadata": {
        "colab": {
          "base_uri": "https://localhost:8080/"
        },
        "id": "NG9D3lJxufRX",
        "outputId": "e5c00feb-35a2-44aa-ec31-9fbee2f1e729"
      },
      "execution_count": 20,
      "outputs": [
        {
          "output_type": "stream",
          "name": "stdout",
          "text": [
            "F-statistic: 1.9443\n",
            "P-value: 0.2416\n",
            "Fail to reject the null hypothesis\n"
          ]
        }
      ]
    }
  ]
}