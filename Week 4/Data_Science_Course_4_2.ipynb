{
  "nbformat": 4,
  "nbformat_minor": 0,
  "metadata": {
    "colab": {
      "provenance": [],
      "authorship_tag": "ABX9TyOXfZTx7QKRPhLHP3reoKuQ",
      "include_colab_link": true
    },
    "kernelspec": {
      "name": "python3",
      "display_name": "Python 3"
    },
    "language_info": {
      "name": "python"
    }
  },
  "cells": [
    {
      "cell_type": "markdown",
      "metadata": {
        "id": "view-in-github",
        "colab_type": "text"
      },
      "source": [
        "<a href=\"https://colab.research.google.com/github/afzalasar7/Data-Science/blob/main/Week%204/Data_Science_Course_4_2.ipynb\" target=\"_parent\"><img src=\"https://colab.research.google.com/assets/colab-badge.svg\" alt=\"Open In Colab\"/></a>"
      ]
    },
    {
      "cell_type": "markdown",
      "source": [
        "#Q1. What is Abstraction in OOps? Explain with an example.\n",
        "Abstraction in OOP is the process of representing complex real-world entities in a simplified manner. It involves focusing on the essential features and behavior of an object while hiding unnecessary details. Abstraction allows programmers to create abstract classes or interfaces that define a common structure and behavior for a group of related objects.\n",
        "\n",
        "An example of abstraction can be seen in a \"Shape\" class hierarchy. Let's say we have an abstract base class called \"Shape\" with a method called \"calculate_area()\" that calculates the area of a shape. This abstract class defines the common behavior for various shapes, but the specific implementation is left to the derived classes.\n",
        "\n",
        "```python\n",
        "from abc import ABC, abstractmethod\n",
        "\n",
        "class Shape(ABC):\n",
        "    @abstractmethod\n",
        "    def calculate_area(self):\n",
        "        pass\n",
        "\n",
        "class Rectangle(Shape):\n",
        "    def __init__(self, length, width):\n",
        "        self.length = length\n",
        "        self.width = width\n",
        "\n",
        "    def calculate_area(self):\n",
        "        return self.length * self.width\n",
        "\n",
        "class Circle(Shape):\n",
        "    def __init__(self, radius):\n",
        "        self.radius = radius\n",
        "\n",
        "    def calculate_area(self):\n",
        "        return 3.14 * self.radius * self.radius\n",
        "```\n",
        "\n",
        "In this example, the \"Shape\" class is an abstract class that defines the common method \"calculate_area()\" but does not provide an implementation. The \"Rectangle\" and \"Circle\" classes are derived from the \"Shape\" class and provide their own implementations of the \"calculate_area()\" method specific to their shape.\n",
        "\n",
        "#Q2. Differentiate between Abstraction and Encapsulation. Explain with an example.\n",
        "Abstraction and encapsulation are related concepts in object-oriented programming but serve different purposes:\n",
        "\n",
        "Abstraction:\n",
        "- Abstraction focuses on representing complex entities in a simplified manner by hiding unnecessary details.\n",
        "- It involves defining abstract classes or interfaces that provide a common structure and behavior for related objects.\n",
        "- Abstraction emphasizes what an object does, rather than how it does it.\n",
        "- It allows for code flexibility, extensibility, and easier maintenance.\n",
        "- Example: The \"Shape\" class hierarchy, as mentioned in the previous answer, demonstrates abstraction by abstracting the concept of shape and its area calculation without specifying the exact implementation for each shape.\n",
        "\n",
        "Encapsulation:\n",
        "- Encapsulation involves bundling data and methods into a single unit called a class.\n",
        "- It provides data hiding and protects the internal implementation of an object.\n",
        "- Encapsulation emphasizes the idea of data abstraction by hiding the internal details and providing access to data through methods (getters and setters).\n",
        "- It helps in achieving data integrity and prevents external code from directly accessing and modifying the object's state.\n",
        "- Example: Consider a \"BankAccount\" class that encapsulates the account details (such as balance) and provides methods to deposit and withdraw money. The internal details of the account, such as the account balance, are hidden from the outside world, and access to them is controlled through the methods provided by the class.\n",
        "\n",
        "In summary, abstraction focuses on simplifying and defining the essential features and behavior of objects, while encapsulation provides data hiding and protects the internal implementation of objects.\n",
        "\n",
        "#Q3. What is abc module in python? Why is it used?\n",
        "The `abc` module in Python stands for \"Abstract Base Classes.\" It provides a way to define abstract classes in Python. An abstract class is a class that cannot be instantiated and is meant to be subclassed by other classes. The `abc` module provides the infrastructure for creating abstract base classes and enforcing the implementation of certain methods in derived classes.\n",
        "\n",
        "The `abc` module is used to define abstract base classes by inheriting from the `ABC` class and using the `@abstractmethod` decorator to define abstract methods. An abstract method is a method declaration without an implementation. Any class that inherits from an abstract base class must implement all the abstract methods defined in the base class.\n",
        "\n",
        "The `abc` module is used when we want to define a common interface or structure\n",
        "\n",
        " for a group of related classes. It helps in enforcing a certain level of consistency and ensuring that specific methods are implemented in derived classes.\n",
        "\n",
        "#Q4. How can we achieve data abstraction?\n",
        "Data abstraction can be achieved in object-oriented programming through the use of abstract classes and interfaces. Abstract classes define a common structure and behavior for a group of related objects without providing a specific implementation. They serve as a blueprint or contract that derived classes must adhere to. Abstract classes typically have one or more abstract methods that must be implemented by the derived classes.\n",
        "\n",
        "By defining abstract classes, we can focus on the essential attributes and behaviors of objects while hiding the internal implementation details. This allows us to work with objects at a higher level of abstraction, dealing with their common characteristics rather than their specific implementations.\n",
        "\n",
        "In languages like Python, data abstraction can be achieved by using the `abc` module to create abstract base classes with abstract methods. Derived classes must implement the abstract methods defined in the base class, ensuring the required behavior and structure.\n",
        "\n",
        "#Q5. Can we create an instance of an abstract class? Explain your answer.\n",
        "No, we cannot create an instance of an abstract class in Python. Abstract classes are meant to be subclassed, and their primary purpose is to provide a common structure and behavior that derived classes can inherit and implement.\n",
        "\n",
        "An abstract class in Python is created by inheriting from the `ABC` class provided by the `abc` module and using the `@abstractmethod` decorator to mark certain methods as abstract. An abstract method is a method declaration without an implementation.\n",
        "\n",
        "Attempting to create an instance of an abstract class directly will result in a `TypeError`. Abstract classes are incomplete by design, as they define methods without providing a specific implementation. They are meant to serve as a blueprint for derived classes to provide the implementation for the abstract methods.\n",
        "\n",
        "To use an abstract class, you need to create a derived class that inherits from the abstract base class and provides the implementation for all the abstract methods. It is the derived class that can be instantiated to create objects.\n",
        "\n",
        "In summary, abstract classes cannot be instantiated directly but serve as a foundation for creating objects through derived classes that implement the abstract methods.\n"
      ],
      "metadata": {
        "id": "XWb_aTuEXWmh"
      }
    }
  ]
}