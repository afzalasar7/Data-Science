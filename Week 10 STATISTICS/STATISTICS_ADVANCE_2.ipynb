{
  "nbformat": 4,
  "nbformat_minor": 0,
  "metadata": {
    "colab": {
      "provenance": [],
      "authorship_tag": "ABX9TyMbORbwPDLwMrxkNyL/+62N",
      "include_colab_link": true
    },
    "kernelspec": {
      "name": "python3",
      "display_name": "Python 3"
    },
    "language_info": {
      "name": "python"
    }
  },
  "cells": [
    {
      "cell_type": "markdown",
      "metadata": {
        "id": "view-in-github",
        "colab_type": "text"
      },
      "source": [
        "<a href=\"https://colab.research.google.com/github/afzalasar7/Data-Science/blob/main/Week%2010%20STATISTICS/STATISTICS_ADVANCE_2.ipynb\" target=\"_parent\"><img src=\"https://colab.research.google.com/assets/colab-badge.svg\" alt=\"Open In Colab\"/></a>"
      ]
    },
    {
      "cell_type": "markdown",
      "source": [
        "# Q1: What are the Probability Mass Function (PMF) and Probability Density Function (PDF)? Explain with an example.\n",
        "**Probability Mass Function (PMF):** The PMF is used for discrete random variables. It gives the probability that a discrete random variable takes on a specific value.\n",
        "\n",
        "**Probability Density Function (PDF):** The PDF is used for continuous random variables. It gives the probability that a continuous random variable falls within a certain range of values.\n",
        "\n",
        "Example:\n",
        "For a fair six-sided die, the PMF would be: P(X = x) = 1/6 for x = 1, 2, 3, 4, 5, 6.\n",
        "\n",
        "For a continuous distribution like the normal distribution, the PDF describes the shape of the distribution and gives the likelihood of a value falling within a range.\n",
        "\n",
        "# Q2: What is Cumulative Density Function (CDF)? Explain with an example. Why CDF is used?\n",
        "**Cumulative Density Function (CDF)** gives the probability that a random variable takes on a value less than or equal to a given value.\n",
        "\n",
        "Example:\n",
        "For a fair six-sided die, the CDF would be: F(x) = (number of outcomes ≤ x) / 6.\n",
        "\n",
        "CDF is used to determine the probability of a random variable falling within a specific range or less than a certain value. It's essential in statistical analysis to evaluate probabilities and make decisions.\n",
        "\n",
        "# Q3: What are some examples of situations where the normal distribution might be used as a model? Explain how the parameters of the normal distribution relate to the shape of the distribution.\n",
        "Normal distribution is used when data clusters around a central value with no bias left or right. Examples include:\n",
        "- Heights and weights of people in a population.\n",
        "- Measurement errors.\n",
        "- IQ scores.\n",
        "\n",
        "The normal distribution is characterized by its mean (center) and standard deviation (spread). The mean determines the central peak of the distribution, and the standard deviation controls how much the data spreads out around the mean.\n",
        "\n",
        "# Q4: Explain the importance of Normal Distribution. Give a few real-life examples of Normal Distribution.\n",
        "Normal distribution is important because many real-world phenomena follow this pattern due to the Central Limit Theorem. It's used in statistical analysis, hypothesis testing, and making predictions.\n",
        "\n",
        "Examples of Normal Distribution:\n",
        "1. Human heights.\n",
        "2. IQ scores.\n",
        "3. Test scores in a large population.\n",
        "4. Measurement errors.\n",
        "\n",
        "# Q5: What is Bernoulli Distribution? Give an Example. What is the difference between Bernoulli Distribution and Binomial Distribution?\n",
        "**Bernoulli Distribution** models a binary outcome (success/failure) in a single trial.\n",
        "\n",
        "Example: Flipping a coin (heads=success, tails=failure).\n",
        "\n",
        "**Difference between Bernoulli and Binomial Distribution:**\n",
        "- Bernoulli is for a single trial, while Binomial is for a fixed number of independent trials.\n",
        "- Bernoulli has one parameter (probability of success), while Binomial has two (number of trials, probability of success).\n",
        "\n",
        "# Q6. Consider a dataset with a mean of 50 and a standard deviation of 10. If we assume that the dataset is normally distributed, what is the probability that a randomly selected observation will be greater than 60? Use the appropriate formula and show your calculations.\n",
        "To calculate this probability, we standardize the value and then use the standard normal distribution (z) table or calculator.\n",
        "\n",
        "Z = (X - μ) / σ = (60 - 50) / 10 = 1.\n",
        "\n",
        "Looking up the z-table, the probability for Z > 1 is approximately 0.1587.\n",
        "\n",
        "# Q7: Explain uniform Distribution with an example.\n",
        "**Uniform Distribution** is when all values in a range are equally likely.\n",
        "\n",
        "Example: Rolling a fair six-sided die. Each number has a 1/6 chance of occurring.\n",
        "\n",
        "# Q8: What is the z score? State the importance of the z score.\n",
        "**Z score** (also called standard score) measures how many standard deviations a data point is from the mean of the data set. It helps in comparing values from different normal distributions.\n",
        "\n",
        "Importance:\n",
        "1. It helps in understanding how unusual or typical a data point is.\n",
        "2. It's used in hypothesis testing to determine the significance of deviations from the mean.\n",
        "\n",
        "# Q9: What is Central Limit Theorem? State the significance of the Central Limit Theorem.\n",
        "**Central Limit Theorem (CLT)** states that the sampling distribution of the sample mean approaches a normal distribution as the sample size increases, regardless of the distribution of the population.\n",
        "\n",
        "Significance:\n",
        "1. It allows us to use normal distribution properties even when the population distribution is not normal.\n",
        "2. It justifies the use of statistical methods that assume normal distribution.\n",
        "3. It's the foundation of hypothesis testing and confidence intervals.\n",
        "\n",
        "# Q10: State the assumptions of the Central Limit Theorem.\n",
        "1. **Independence:** Samples are selected randomly and independently.\n",
        "2. **Sample Size:** Sample size is sufficiently large (usually n ≥ 30).\n",
        "3. **Sampled Population:** The population distribution has a finite variance (not extremely skewed)."
      ],
      "metadata": {
        "id": "zudTSD_b5W_S"
      }
    }
  ]
}