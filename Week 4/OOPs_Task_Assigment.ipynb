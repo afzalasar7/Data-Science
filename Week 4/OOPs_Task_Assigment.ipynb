{
  "nbformat": 4,
  "nbformat_minor": 0,
  "metadata": {
    "colab": {
      "provenance": [],
      "authorship_tag": "ABX9TyOSEEPWQ6rdc25kQl3dOmMs",
      "include_colab_link": true
    },
    "kernelspec": {
      "name": "python3",
      "display_name": "Python 3"
    },
    "language_info": {
      "name": "python"
    }
  },
  "cells": [
    {
      "cell_type": "markdown",
      "metadata": {
        "id": "view-in-github",
        "colab_type": "text"
      },
      "source": [
        "<a href=\"https://colab.research.google.com/github/afzalasar7/Data-Science/blob/main/Week%204/OOPs_Task_Assigment.ipynb\" target=\"_parent\"><img src=\"https://colab.research.google.com/assets/colab-badge.svg\" alt=\"Open In Colab\"/></a>"
      ]
    },
    {
      "cell_type": "markdown",
      "source": [
        "Q1. Here's the code for the Vehicle class with an `__init__` method and instance variables:\n",
        "\n",
        "```python\n",
        "class Vehicle:\n",
        "    def __init__(self, name_of_vehicle, max_speed, average_of_vehicle):\n",
        "        self.name_of_vehicle = name_of_vehicle\n",
        "        self.max_speed = max_speed\n",
        "        self.average_of_vehicle = average_of_vehicle\n",
        "```\n",
        "\n",
        "Q2. Here's the code for the Car class, which is a child class of the Vehicle class, and includes the `seating_capacity` method:\n",
        "\n",
        "```python\n",
        "class Car(Vehicle):\n",
        "    def seating_capacity(self, capacity):\n",
        "        return f\"The {self.name_of_vehicle} has a seating capacity of {capacity} people.\"\n",
        "```\n",
        "\n",
        "Q3. Multiple inheritance is a feature in object-oriented programming where a class can inherit attributes and methods from more than one parent class. It allows a subclass to inherit from multiple superclasses. Here's an example code demonstrating multiple inheritance:\n",
        "\n",
        "```python\n",
        "class Parent1:\n",
        "    def method1(self):\n",
        "        print(\"This is method 1 from Parent1\")\n",
        "\n",
        "class Parent2:\n",
        "    def method2(self):\n",
        "        print(\"This is method 2 from Parent2\")\n",
        "\n",
        "class Child(Parent1, Parent2):\n",
        "    def method3(self):\n",
        "        print(\"This is method 3 from Child\")\n",
        "\n",
        "# Creating an instance of the Child class\n",
        "child = Child()\n",
        "\n",
        "# Accessing methods from both parent classes\n",
        "child.method1()  # Output: This is method 1 from Parent1\n",
        "child.method2()  # Output: This is method 2 from Parent2\n",
        "child.method3()  # Output: This is method 3 from Child\n",
        "```\n",
        "\n",
        "In the example above, the `Child` class inherits from both `Parent1` and `Parent2` classes, allowing it to access methods from both parent classes.\n",
        "\n",
        "Q4. Getter and setter methods are used to access and modify the values of private attributes (variables) of a class, respectively. They provide a way to control the access to class attributes and enforce encapsulation. Here's an example class with a getter and a setter method:\n",
        "\n",
        "```python\n",
        "class ExampleClass:\n",
        "    def __init__(self):\n",
        "        self._attribute = None  # Private attribute prefixed with an underscore\n",
        "\n",
        "    def get_attribute(self):\n",
        "        return self._attribute\n",
        "\n",
        "    def set_attribute(self, value):\n",
        "        self._attribute = value\n",
        "```\n",
        "\n",
        "In the code above, the `ExampleClass` has a private attribute `_attribute`. The `get_attribute` method is a getter that allows access to the attribute's value, and the `set_attribute` method is a setter that allows modification of the attribute's value.\n",
        "\n",
        "Q5. Method overriding is a feature in object-oriented programming where a subclass provides its own implementation of a method that is already defined in its parent class. It allows the subclass to modify the behavior of the inherited method. Here's an example code demonstrating method overriding:\n",
        "\n",
        "```python\n",
        "class Parent:\n",
        "    def my_method(self):\n",
        "        print(\"This is the Parent class method\")\n",
        "\n",
        "class Child(Parent):\n",
        "    def my_method(self):\n",
        "        print(\"This is the Child class method\")\n",
        "\n",
        "# Creating an instance of the Child class\n",
        "child = Child()\n",
        "\n",
        "# Calling the overridden method\n",
        "child.my_method()  # Output: This is the Child class method\n",
        "```\n",
        "\n",
        "In the example above, the `Child` class overrides the `my_method` from its parent class `Parent` by providing its own implementation. When calling the method on the child instance, the overridden method in the child class is executed instead of the parent class method."
      ],
      "metadata": {
        "id": "ApbY2fQk8kc3"
      }
    }
  ]
}